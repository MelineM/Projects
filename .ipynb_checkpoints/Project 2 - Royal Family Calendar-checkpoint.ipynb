{
 "cells": [
  {
   "cell_type": "markdown",
   "metadata": {},
   "source": [
    "# Royal Family Calendar\n",
    "\n",
    "This is an essential tool for all Royalists who wish to catch a glimpse of their favourite Royals!\n",
    "\n",
    "Update the dates in the second cell and run the function in order to return a list of all upcoming events in your desired timeframe!\n",
    "The function will even save a copy of the events in a csv file for you!"
   ]
  },
  {
   "cell_type": "code",
   "execution_count": 1,
   "metadata": {},
   "outputs": [],
   "source": [
    "import requests\n",
    "import re\n",
    "from bs4 import BeautifulSoup\n",
    "import pandas as pd\n",
    "from geotext import GeoText"
   ]
  },
  {
   "cell_type": "code",
   "execution_count": 2,
   "metadata": {},
   "outputs": [
    {
     "data": {
      "text/plain": [
       "['https://www.royal.uk/future-engagements?text=&mrf=&date%5Bmin%5D%5Bdate%5D=27/12/2020&date%5Bmax%5D%5Bdate%5D=02/02/2020&id=&page=0',\n",
       " 'https://www.royal.uk/future-engagements?text=&mrf=&date%5Bmin%5D%5Bdate%5D=27/12/2020&date%5Bmax%5D%5Bdate%5D=02/02/2020&id=&page=1',\n",
       " 'https://www.royal.uk/future-engagements?text=&mrf=&date%5Bmin%5D%5Bdate%5D=27/12/2020&date%5Bmax%5D%5Bdate%5D=02/02/2020&id=&page=2',\n",
       " 'https://www.royal.uk/future-engagements?text=&mrf=&date%5Bmin%5D%5Bdate%5D=27/12/2020&date%5Bmax%5D%5Bdate%5D=02/02/2020&id=&page=3',\n",
       " 'https://www.royal.uk/future-engagements?text=&mrf=&date%5Bmin%5D%5Bdate%5D=27/12/2020&date%5Bmax%5D%5Bdate%5D=02/02/2020&id=&page=4',\n",
       " 'https://www.royal.uk/future-engagements?text=&mrf=&date%5Bmin%5D%5Bdate%5D=27/12/2020&date%5Bmax%5D%5Bdate%5D=02/02/2020&id=&page=5',\n",
       " 'https://www.royal.uk/future-engagements?text=&mrf=&date%5Bmin%5D%5Bdate%5D=27/12/2020&date%5Bmax%5D%5Bdate%5D=02/02/2020&id=&page=6',\n",
       " 'https://www.royal.uk/future-engagements?text=&mrf=&date%5Bmin%5D%5Bdate%5D=27/12/2020&date%5Bmax%5D%5Bdate%5D=02/02/2020&id=&page=7',\n",
       " 'https://www.royal.uk/future-engagements?text=&mrf=&date%5Bmin%5D%5Bdate%5D=27/12/2020&date%5Bmax%5D%5Bdate%5D=02/02/2020&id=&page=8',\n",
       " 'https://www.royal.uk/future-engagements?text=&mrf=&date%5Bmin%5D%5Bdate%5D=27/12/2020&date%5Bmax%5D%5Bdate%5D=02/02/2020&id=&page=9',\n",
       " 'https://www.royal.uk/future-engagements?text=&mrf=&date%5Bmin%5D%5Bdate%5D=27/12/2020&date%5Bmax%5D%5Bdate%5D=02/02/2020&id=&page=10',\n",
       " 'https://www.royal.uk/future-engagements?text=&mrf=&date%5Bmin%5D%5Bdate%5D=27/12/2020&date%5Bmax%5D%5Bdate%5D=02/02/2020&id=&page=11']"
      ]
     },
     "execution_count": 2,
     "metadata": {},
     "output_type": "execute_result"
    }
   ],
   "source": [
    "lst=[]\n",
    "for i in range(12):\n",
    "    lst.append('https://www.royal.uk/future-engagements?text=&mrf=&date%5Bmin%5D%5Bdate%5D=27/12/2020&date%5Bmax%5D%5Bdate%5D=02/02/2020&id=&page='+str(i))\n",
    "lst"
   ]
  },
  {
   "cell_type": "code",
   "execution_count": 3,
   "metadata": {},
   "outputs": [
    {
     "data": {
      "text/html": [
       "<div>\n",
       "<style scoped>\n",
       "    .dataframe tbody tr th:only-of-type {\n",
       "        vertical-align: middle;\n",
       "    }\n",
       "\n",
       "    .dataframe tbody tr th {\n",
       "        vertical-align: top;\n",
       "    }\n",
       "\n",
       "    .dataframe thead th {\n",
       "        text-align: right;\n",
       "    }\n",
       "</style>\n",
       "<table border=\"1\" class=\"dataframe\">\n",
       "  <thead>\n",
       "    <tr style=\"text-align: right;\">\n",
       "      <th></th>\n",
       "      <th>Date</th>\n",
       "      <th>Member of Royal Family</th>\n",
       "      <th>Event</th>\n",
       "      <th>Location</th>\n",
       "    </tr>\n",
       "  </thead>\n",
       "  <tbody>\n",
       "  </tbody>\n",
       "</table>\n",
       "</div>"
      ],
      "text/plain": [
       "Empty DataFrame\n",
       "Columns: [Date, Member of Royal Family, Event, Location]\n",
       "Index: []"
      ]
     },
     "execution_count": 3,
     "metadata": {},
     "output_type": "execute_result"
    }
   ],
   "source": [
    "def royal_events(lst):\n",
    "    colnames = [\"Date\", \"Member of Royal Family\", \"Event\", \"Location\"]\n",
    "    df = pd.DataFrame(columns=colnames)\n",
    "    for url in lst:\n",
    "        html = requests.get(url).content\n",
    "        soup = BeautifulSoup(html)\n",
    "        dates = soup.select(\"section ul li div span\")\n",
    "        dates = [i.string for i in dates]\n",
    "        royals = soup.select(\"li h2\")\n",
    "        royals = [i.string for i in royals]\n",
    "        events = soup.select(\"li div p\")\n",
    "        events = [i.string for i in events]\n",
    "\n",
    "        new_events = []\n",
    "        for event in events:\n",
    "            m=re.search(r\"(\\bwill\\b\\s*(?:\\S+\\b\\s*(.*?,|\\W)){0,})\",str(event)).group(0)\n",
    "            new_events.append(m)\n",
    "        events2 = [event.strip(\",\") for event in new_events]\n",
    "        clean_events = [event.strip(\"will \") for event in events2]\n",
    "\n",
    "        locations = []\n",
    "        for event in events:\n",
    "            if \",\" in event:\n",
    "                event=event.split(\", \")\n",
    "                locations.append(event[-1])\n",
    "            elif \"at\" in event:\n",
    "                event=event.split(\" at \")\n",
    "                locations.append(event[-1])\n",
    "            elif \"in\" in event:\n",
    "                event=event.split(\" in \")\n",
    "                locations.append(event[-1])\n",
    "\n",
    "        City = []\n",
    "        for event in events:\n",
    "            city = GeoText(event)\n",
    "            City.append(city.cities)\n",
    "        \n",
    "        df1 = pd.DataFrame(columns=colnames)\n",
    "        df1[\"Date\"] = dates\n",
    "        df1[\"Member of Royal Family\"] = royals\n",
    "        df1[\"Event\"] = clean_events\n",
    "        df1[\"Location\"] = City\n",
    "        df=df.append(df1)\n",
    "    df = df.reset_index(drop=True)\n",
    "    df.index = df.index + 1\n",
    "    df.to_csv('Royal_Events.csv', sep=',')\n",
    "    return df\n",
    "\n",
    "royal_events(lst)"
   ]
  },
  {
   "cell_type": "code",
   "execution_count": null,
   "metadata": {},
   "outputs": [],
   "source": []
  }
 ],
 "metadata": {
  "kernelspec": {
   "display_name": "Python 3",
   "language": "python",
   "name": "python3"
  },
  "language_info": {
   "codemirror_mode": {
    "name": "ipython",
    "version": 3
   },
   "file_extension": ".py",
   "mimetype": "text/x-python",
   "name": "python",
   "nbconvert_exporter": "python",
   "pygments_lexer": "ipython3",
   "version": "3.7.4"
  }
 },
 "nbformat": 4,
 "nbformat_minor": 2
}
