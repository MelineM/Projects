{
 "cells": [
  {
   "cell_type": "markdown",
   "metadata": {},
   "source": [
    "# What's the best way to predict solar radiation levels?\n",
    "\n",
    "Solar radiation is energy emitted by the sun from a nuclear fusion reaction. It can be captured and converted into energy. It is important to us because it is a clean and renewable energy source. The ability to predict the levels in a particular location is an essential part of the decision making process when building solar energy farms."
   ]
  },
  {
   "cell_type": "markdown",
   "metadata": {},
   "source": [
    "Solar radiation levels depend on:\n",
    "\n",
    "* Geographic location\n",
    "* Time of day\n",
    "* Season\n",
    "* Local landscape\n",
    "* Local weather"
   ]
  },
  {
   "cell_type": "markdown",
   "metadata": {},
   "source": [
    "With this is mind, which supervised learning model is the best for predicting solar radiation levels?"
   ]
  },
  {
   "cell_type": "markdown",
   "metadata": {},
   "source": [
    "# Import libraries & load the dataset"
   ]
  },
  {
   "cell_type": "markdown",
   "metadata": {},
   "source": [
    "The data used in this project was collected at the HI-SEAS weather station in Hawaii from September 2016 to January 2017."
   ]
  },
  {
   "cell_type": "code",
   "execution_count": 1,
   "metadata": {},
   "outputs": [],
   "source": [
    "import pandas as pd\n",
    "import numpy as np\n",
    "import seaborn as sns\n",
    "import datetime as dt\n",
    "import matplotlib.pyplot as plt\n",
    "from sklearn.linear_model import LinearRegression\n",
    "from sklearn.model_selection import train_test_split\n",
    "from sklearn.metrics import r2_score\n",
    "from sklearn.metrics import mean_absolute_error\n",
    "from sklearn.metrics import mean_squared_error\n",
    "from mlxtend.feature_selection import SequentialFeatureSelector as sfs\n",
    "from sklearn.tree import DecisionTreeRegressor\n",
    "from sklearn.ensemble import RandomForestRegressor\n",
    "from sklearn.neighbors import KNeighborsRegressor\n",
    "from sklearn import cluster, datasets\n",
    "from sklearn.preprocessing import StandardScaler\n",
    "from matplotlib.lines import Line2D\n",
    "from sklearn.metrics import silhouette_score, davies_bouldin_score\n",
    "from sklearn.ensemble import VotingRegressor\n",
    "from sklearn.model_selection import cross_validate"
   ]
  },
  {
   "cell_type": "code",
   "execution_count": 2,
   "metadata": {},
   "outputs": [],
   "source": [
    "df=pd.read_csv(\"/Users/melineminassian/Downloads/SolarPrediction.csv\")"
   ]
  },
  {
   "cell_type": "markdown",
   "metadata": {},
   "source": [
    "# Cleaning & Exploration"
   ]
  },
  {
   "cell_type": "code",
   "execution_count": 3,
   "metadata": {},
   "outputs": [
    {
     "data": {
      "text/plain": [
       "(32686, 11)"
      ]
     },
     "execution_count": 3,
     "metadata": {},
     "output_type": "execute_result"
    }
   ],
   "source": [
    "df.shape"
   ]
  },
  {
   "cell_type": "code",
   "execution_count": 4,
   "metadata": {},
   "outputs": [
    {
     "data": {
      "text/html": [
       "<div>\n",
       "<style scoped>\n",
       "    .dataframe tbody tr th:only-of-type {\n",
       "        vertical-align: middle;\n",
       "    }\n",
       "\n",
       "    .dataframe tbody tr th {\n",
       "        vertical-align: top;\n",
       "    }\n",
       "\n",
       "    .dataframe thead th {\n",
       "        text-align: right;\n",
       "    }\n",
       "</style>\n",
       "<table border=\"1\" class=\"dataframe\">\n",
       "  <thead>\n",
       "    <tr style=\"text-align: right;\">\n",
       "      <th></th>\n",
       "      <th>UNIXTime</th>\n",
       "      <th>Data</th>\n",
       "      <th>Time</th>\n",
       "      <th>Radiation</th>\n",
       "      <th>Temperature</th>\n",
       "      <th>Pressure</th>\n",
       "      <th>Humidity</th>\n",
       "      <th>WindDirection(Degrees)</th>\n",
       "      <th>Speed</th>\n",
       "      <th>TimeSunRise</th>\n",
       "      <th>TimeSunSet</th>\n",
       "    </tr>\n",
       "  </thead>\n",
       "  <tbody>\n",
       "    <tr>\n",
       "      <td>0</td>\n",
       "      <td>1475229326</td>\n",
       "      <td>9/29/2016 12:00:00 AM</td>\n",
       "      <td>23:55:26</td>\n",
       "      <td>1.21</td>\n",
       "      <td>48</td>\n",
       "      <td>30.46</td>\n",
       "      <td>59</td>\n",
       "      <td>177.39</td>\n",
       "      <td>5.62</td>\n",
       "      <td>06:13:00</td>\n",
       "      <td>18:13:00</td>\n",
       "    </tr>\n",
       "    <tr>\n",
       "      <td>1</td>\n",
       "      <td>1475229023</td>\n",
       "      <td>9/29/2016 12:00:00 AM</td>\n",
       "      <td>23:50:23</td>\n",
       "      <td>1.21</td>\n",
       "      <td>48</td>\n",
       "      <td>30.46</td>\n",
       "      <td>58</td>\n",
       "      <td>176.78</td>\n",
       "      <td>3.37</td>\n",
       "      <td>06:13:00</td>\n",
       "      <td>18:13:00</td>\n",
       "    </tr>\n",
       "    <tr>\n",
       "      <td>2</td>\n",
       "      <td>1475228726</td>\n",
       "      <td>9/29/2016 12:00:00 AM</td>\n",
       "      <td>23:45:26</td>\n",
       "      <td>1.23</td>\n",
       "      <td>48</td>\n",
       "      <td>30.46</td>\n",
       "      <td>57</td>\n",
       "      <td>158.75</td>\n",
       "      <td>3.37</td>\n",
       "      <td>06:13:00</td>\n",
       "      <td>18:13:00</td>\n",
       "    </tr>\n",
       "    <tr>\n",
       "      <td>3</td>\n",
       "      <td>1475228421</td>\n",
       "      <td>9/29/2016 12:00:00 AM</td>\n",
       "      <td>23:40:21</td>\n",
       "      <td>1.21</td>\n",
       "      <td>48</td>\n",
       "      <td>30.46</td>\n",
       "      <td>60</td>\n",
       "      <td>137.71</td>\n",
       "      <td>3.37</td>\n",
       "      <td>06:13:00</td>\n",
       "      <td>18:13:00</td>\n",
       "    </tr>\n",
       "    <tr>\n",
       "      <td>4</td>\n",
       "      <td>1475228124</td>\n",
       "      <td>9/29/2016 12:00:00 AM</td>\n",
       "      <td>23:35:24</td>\n",
       "      <td>1.17</td>\n",
       "      <td>48</td>\n",
       "      <td>30.46</td>\n",
       "      <td>62</td>\n",
       "      <td>104.95</td>\n",
       "      <td>5.62</td>\n",
       "      <td>06:13:00</td>\n",
       "      <td>18:13:00</td>\n",
       "    </tr>\n",
       "  </tbody>\n",
       "</table>\n",
       "</div>"
      ],
      "text/plain": [
       "     UNIXTime                   Data      Time  Radiation  Temperature  \\\n",
       "0  1475229326  9/29/2016 12:00:00 AM  23:55:26       1.21           48   \n",
       "1  1475229023  9/29/2016 12:00:00 AM  23:50:23       1.21           48   \n",
       "2  1475228726  9/29/2016 12:00:00 AM  23:45:26       1.23           48   \n",
       "3  1475228421  9/29/2016 12:00:00 AM  23:40:21       1.21           48   \n",
       "4  1475228124  9/29/2016 12:00:00 AM  23:35:24       1.17           48   \n",
       "\n",
       "   Pressure  Humidity  WindDirection(Degrees)  Speed TimeSunRise TimeSunSet  \n",
       "0     30.46        59                  177.39   5.62    06:13:00   18:13:00  \n",
       "1     30.46        58                  176.78   3.37    06:13:00   18:13:00  \n",
       "2     30.46        57                  158.75   3.37    06:13:00   18:13:00  \n",
       "3     30.46        60                  137.71   3.37    06:13:00   18:13:00  \n",
       "4     30.46        62                  104.95   5.62    06:13:00   18:13:00  "
      ]
     },
     "execution_count": 4,
     "metadata": {},
     "output_type": "execute_result"
    }
   ],
   "source": [
    "df.head()"
   ]
  },
  {
   "cell_type": "code",
   "execution_count": 5,
   "metadata": {},
   "outputs": [
    {
     "data": {
      "text/plain": [
       "UNIXTime                    int64\n",
       "Data                       object\n",
       "Time                       object\n",
       "Radiation                 float64\n",
       "Temperature                 int64\n",
       "Pressure                  float64\n",
       "Humidity                    int64\n",
       "WindDirection(Degrees)    float64\n",
       "Speed                     float64\n",
       "TimeSunRise                object\n",
       "TimeSunSet                 object\n",
       "dtype: object"
      ]
     },
     "execution_count": 5,
     "metadata": {},
     "output_type": "execute_result"
    }
   ],
   "source": [
    "df.dtypes"
   ]
  },
  {
   "cell_type": "markdown",
   "metadata": {},
   "source": [
    "Convert date type, reformat and rename column"
   ]
  },
  {
   "cell_type": "code",
   "execution_count": 6,
   "metadata": {},
   "outputs": [],
   "source": [
    "df[\"Data\"] = pd.to_datetime(df[\"Data\"])\n",
    "df[\"Data\"] = df[\"Data\"].dt.strftime('%d-%m-%Y')\n",
    "df = df.rename(columns = {\"Data\":\"Date\"}) "
   ]
  },
  {
   "cell_type": "markdown",
   "metadata": {},
   "source": [
    "Add column hour, month, year and duration of day"
   ]
  },
  {
   "cell_type": "markdown",
   "metadata": {},
   "source": [
    "No longer need date,  time, time_conv, timesunrise or timesunset so drop"
   ]
  },
  {
   "cell_type": "code",
   "execution_count": 7,
   "metadata": {},
   "outputs": [
    {
     "data": {
      "text/html": [
       "<div>\n",
       "<style scoped>\n",
       "    .dataframe tbody tr th:only-of-type {\n",
       "        vertical-align: middle;\n",
       "    }\n",
       "\n",
       "    .dataframe tbody tr th {\n",
       "        vertical-align: top;\n",
       "    }\n",
       "\n",
       "    .dataframe thead th {\n",
       "        text-align: right;\n",
       "    }\n",
       "</style>\n",
       "<table border=\"1\" class=\"dataframe\">\n",
       "  <thead>\n",
       "    <tr style=\"text-align: right;\">\n",
       "      <th></th>\n",
       "      <th>UNIXTime</th>\n",
       "      <th>Radiation</th>\n",
       "      <th>Temperature</th>\n",
       "      <th>Pressure</th>\n",
       "      <th>Humidity</th>\n",
       "      <th>WindDirection(Degrees)</th>\n",
       "      <th>Speed</th>\n",
       "      <th>Hour</th>\n",
       "      <th>Month</th>\n",
       "      <th>Year</th>\n",
       "      <th>Total_Time</th>\n",
       "    </tr>\n",
       "  </thead>\n",
       "  <tbody>\n",
       "    <tr>\n",
       "      <td>0</td>\n",
       "      <td>1475229326</td>\n",
       "      <td>1.21</td>\n",
       "      <td>48</td>\n",
       "      <td>30.46</td>\n",
       "      <td>59</td>\n",
       "      <td>177.39</td>\n",
       "      <td>5.62</td>\n",
       "      <td>23</td>\n",
       "      <td>9</td>\n",
       "      <td>2016</td>\n",
       "      <td>12</td>\n",
       "    </tr>\n",
       "    <tr>\n",
       "      <td>1</td>\n",
       "      <td>1475229023</td>\n",
       "      <td>1.21</td>\n",
       "      <td>48</td>\n",
       "      <td>30.46</td>\n",
       "      <td>58</td>\n",
       "      <td>176.78</td>\n",
       "      <td>3.37</td>\n",
       "      <td>23</td>\n",
       "      <td>9</td>\n",
       "      <td>2016</td>\n",
       "      <td>12</td>\n",
       "    </tr>\n",
       "    <tr>\n",
       "      <td>2</td>\n",
       "      <td>1475228726</td>\n",
       "      <td>1.23</td>\n",
       "      <td>48</td>\n",
       "      <td>30.46</td>\n",
       "      <td>57</td>\n",
       "      <td>158.75</td>\n",
       "      <td>3.37</td>\n",
       "      <td>23</td>\n",
       "      <td>9</td>\n",
       "      <td>2016</td>\n",
       "      <td>12</td>\n",
       "    </tr>\n",
       "    <tr>\n",
       "      <td>3</td>\n",
       "      <td>1475228421</td>\n",
       "      <td>1.21</td>\n",
       "      <td>48</td>\n",
       "      <td>30.46</td>\n",
       "      <td>60</td>\n",
       "      <td>137.71</td>\n",
       "      <td>3.37</td>\n",
       "      <td>23</td>\n",
       "      <td>9</td>\n",
       "      <td>2016</td>\n",
       "      <td>12</td>\n",
       "    </tr>\n",
       "    <tr>\n",
       "      <td>4</td>\n",
       "      <td>1475228124</td>\n",
       "      <td>1.17</td>\n",
       "      <td>48</td>\n",
       "      <td>30.46</td>\n",
       "      <td>62</td>\n",
       "      <td>104.95</td>\n",
       "      <td>5.62</td>\n",
       "      <td>23</td>\n",
       "      <td>9</td>\n",
       "      <td>2016</td>\n",
       "      <td>12</td>\n",
       "    </tr>\n",
       "  </tbody>\n",
       "</table>\n",
       "</div>"
      ],
      "text/plain": [
       "     UNIXTime  Radiation  Temperature  Pressure  Humidity  \\\n",
       "0  1475229326       1.21           48     30.46        59   \n",
       "1  1475229023       1.21           48     30.46        58   \n",
       "2  1475228726       1.23           48     30.46        57   \n",
       "3  1475228421       1.21           48     30.46        60   \n",
       "4  1475228124       1.17           48     30.46        62   \n",
       "\n",
       "   WindDirection(Degrees)  Speed  Hour  Month  Year  Total_Time  \n",
       "0                  177.39   5.62    23      9  2016          12  \n",
       "1                  176.78   3.37    23      9  2016          12  \n",
       "2                  158.75   3.37    23      9  2016          12  \n",
       "3                  137.71   3.37    23      9  2016          12  \n",
       "4                  104.95   5.62    23      9  2016          12  "
      ]
     },
     "execution_count": 7,
     "metadata": {},
     "output_type": "execute_result"
    }
   ],
   "source": [
    "df[\"Time_Conv\"] =  pd.to_datetime(df[\"Time\"], format='%H:%M:%S')\n",
    "df[\"Hour\"] = pd.to_datetime(df[\"Time_Conv\"], format='%H:%M:%S').dt.hour\n",
    "df[\"Month\"] = pd.to_datetime(df[\"UNIXTime\"].astype(int), unit='s').dt.month\n",
    "df[\"Year\"] = pd.to_datetime(df[\"UNIXTime\"].astype(int), unit='s').dt.year\n",
    "df[\"Total_Time\"] = pd.to_datetime(df[\"TimeSunSet\"], format='%H:%M:%S').dt.hour - pd.to_datetime(\n",
    "    df['TimeSunRise'], format='%H:%M:%S').dt.hour\n",
    "\n",
    "df.drop([\"Date\", \"Time\", \"TimeSunRise\", \"TimeSunSet\", \"Time_Conv\"], axis=1, inplace=True)\n",
    "df.head()"
   ]
  },
  {
   "cell_type": "code",
   "execution_count": 8,
   "metadata": {},
   "outputs": [
    {
     "data": {
      "text/plain": [
       "UNIXTime                    int64\n",
       "Radiation                 float64\n",
       "Temperature                 int64\n",
       "Pressure                  float64\n",
       "Humidity                    int64\n",
       "WindDirection(Degrees)    float64\n",
       "Speed                     float64\n",
       "Hour                        int64\n",
       "Month                       int64\n",
       "Year                        int64\n",
       "Total_Time                  int64\n",
       "dtype: object"
      ]
     },
     "execution_count": 8,
     "metadata": {},
     "output_type": "execute_result"
    }
   ],
   "source": [
    "df.dtypes"
   ]
  },
  {
   "cell_type": "code",
   "execution_count": 9,
   "metadata": {},
   "outputs": [
    {
     "data": {
      "text/html": [
       "<div>\n",
       "<style scoped>\n",
       "    .dataframe tbody tr th:only-of-type {\n",
       "        vertical-align: middle;\n",
       "    }\n",
       "\n",
       "    .dataframe tbody tr th {\n",
       "        vertical-align: top;\n",
       "    }\n",
       "\n",
       "    .dataframe thead th {\n",
       "        text-align: right;\n",
       "    }\n",
       "</style>\n",
       "<table border=\"1\" class=\"dataframe\">\n",
       "  <thead>\n",
       "    <tr style=\"text-align: right;\">\n",
       "      <th></th>\n",
       "      <th>UNIXTime</th>\n",
       "      <th>Radiation</th>\n",
       "      <th>Temperature</th>\n",
       "      <th>Pressure</th>\n",
       "      <th>Humidity</th>\n",
       "      <th>WindDirection(Degrees)</th>\n",
       "      <th>Speed</th>\n",
       "      <th>Hour</th>\n",
       "      <th>Month</th>\n",
       "      <th>Year</th>\n",
       "      <th>Total_Time</th>\n",
       "    </tr>\n",
       "  </thead>\n",
       "  <tbody>\n",
       "    <tr>\n",
       "      <td>0</td>\n",
       "      <td>1475229326</td>\n",
       "      <td>1.21</td>\n",
       "      <td>48</td>\n",
       "      <td>30.46</td>\n",
       "      <td>59</td>\n",
       "      <td>177.39</td>\n",
       "      <td>5.62</td>\n",
       "      <td>23</td>\n",
       "      <td>9</td>\n",
       "      <td>2016</td>\n",
       "      <td>12</td>\n",
       "    </tr>\n",
       "    <tr>\n",
       "      <td>1</td>\n",
       "      <td>1475229023</td>\n",
       "      <td>1.21</td>\n",
       "      <td>48</td>\n",
       "      <td>30.46</td>\n",
       "      <td>58</td>\n",
       "      <td>176.78</td>\n",
       "      <td>3.37</td>\n",
       "      <td>23</td>\n",
       "      <td>9</td>\n",
       "      <td>2016</td>\n",
       "      <td>12</td>\n",
       "    </tr>\n",
       "    <tr>\n",
       "      <td>2</td>\n",
       "      <td>1475228726</td>\n",
       "      <td>1.23</td>\n",
       "      <td>48</td>\n",
       "      <td>30.46</td>\n",
       "      <td>57</td>\n",
       "      <td>158.75</td>\n",
       "      <td>3.37</td>\n",
       "      <td>23</td>\n",
       "      <td>9</td>\n",
       "      <td>2016</td>\n",
       "      <td>12</td>\n",
       "    </tr>\n",
       "    <tr>\n",
       "      <td>3</td>\n",
       "      <td>1475228421</td>\n",
       "      <td>1.21</td>\n",
       "      <td>48</td>\n",
       "      <td>30.46</td>\n",
       "      <td>60</td>\n",
       "      <td>137.71</td>\n",
       "      <td>3.37</td>\n",
       "      <td>23</td>\n",
       "      <td>9</td>\n",
       "      <td>2016</td>\n",
       "      <td>12</td>\n",
       "    </tr>\n",
       "    <tr>\n",
       "      <td>4</td>\n",
       "      <td>1475228124</td>\n",
       "      <td>1.17</td>\n",
       "      <td>48</td>\n",
       "      <td>30.46</td>\n",
       "      <td>62</td>\n",
       "      <td>104.95</td>\n",
       "      <td>5.62</td>\n",
       "      <td>23</td>\n",
       "      <td>9</td>\n",
       "      <td>2016</td>\n",
       "      <td>12</td>\n",
       "    </tr>\n",
       "  </tbody>\n",
       "</table>\n",
       "</div>"
      ],
      "text/plain": [
       "     UNIXTime  Radiation  Temperature  Pressure  Humidity  \\\n",
       "0  1475229326       1.21           48     30.46        59   \n",
       "1  1475229023       1.21           48     30.46        58   \n",
       "2  1475228726       1.23           48     30.46        57   \n",
       "3  1475228421       1.21           48     30.46        60   \n",
       "4  1475228124       1.17           48     30.46        62   \n",
       "\n",
       "   WindDirection(Degrees)  Speed  Hour  Month  Year  Total_Time  \n",
       "0                  177.39   5.62    23      9  2016          12  \n",
       "1                  176.78   3.37    23      9  2016          12  \n",
       "2                  158.75   3.37    23      9  2016          12  \n",
       "3                  137.71   3.37    23      9  2016          12  \n",
       "4                  104.95   5.62    23      9  2016          12  "
      ]
     },
     "execution_count": 9,
     "metadata": {},
     "output_type": "execute_result"
    }
   ],
   "source": [
    "df.head()"
   ]
  },
  {
   "cell_type": "markdown",
   "metadata": {},
   "source": [
    "Check for missing data - there is none!"
   ]
  },
  {
   "cell_type": "code",
   "execution_count": 10,
   "metadata": {},
   "outputs": [
    {
     "data": {
      "text/plain": [
       "UNIXTime                  0\n",
       "Radiation                 0\n",
       "Temperature               0\n",
       "Pressure                  0\n",
       "Humidity                  0\n",
       "WindDirection(Degrees)    0\n",
       "Speed                     0\n",
       "Hour                      0\n",
       "Month                     0\n",
       "Year                      0\n",
       "Total_Time                0\n",
       "dtype: int64"
      ]
     },
     "execution_count": 10,
     "metadata": {},
     "output_type": "execute_result"
    }
   ],
   "source": [
    "df.isna().sum()"
   ]
  },
  {
   "cell_type": "markdown",
   "metadata": {},
   "source": [
    "We can see here that there are outlisers in the radiation column."
   ]
  },
  {
   "cell_type": "markdown",
   "metadata": {},
   "source": [
    "Most of the data is under 355 W/m^2"
   ]
  },
  {
   "cell_type": "code",
   "execution_count": 11,
   "metadata": {},
   "outputs": [
    {
     "data": {
      "text/html": [
       "<div>\n",
       "<style scoped>\n",
       "    .dataframe tbody tr th:only-of-type {\n",
       "        vertical-align: middle;\n",
       "    }\n",
       "\n",
       "    .dataframe tbody tr th {\n",
       "        vertical-align: top;\n",
       "    }\n",
       "\n",
       "    .dataframe thead th {\n",
       "        text-align: right;\n",
       "    }\n",
       "</style>\n",
       "<table border=\"1\" class=\"dataframe\">\n",
       "  <thead>\n",
       "    <tr style=\"text-align: right;\">\n",
       "      <th></th>\n",
       "      <th>UNIXTime</th>\n",
       "      <th>Radiation</th>\n",
       "      <th>Temperature</th>\n",
       "      <th>Pressure</th>\n",
       "      <th>Humidity</th>\n",
       "      <th>WindDirection(Degrees)</th>\n",
       "      <th>Speed</th>\n",
       "      <th>Hour</th>\n",
       "      <th>Month</th>\n",
       "      <th>Year</th>\n",
       "      <th>Total_Time</th>\n",
       "    </tr>\n",
       "  </thead>\n",
       "  <tbody>\n",
       "    <tr>\n",
       "      <td>count</td>\n",
       "      <td>3.268600e+04</td>\n",
       "      <td>32686.0</td>\n",
       "      <td>32686.0</td>\n",
       "      <td>32686.0</td>\n",
       "      <td>32686.0</td>\n",
       "      <td>32686.0</td>\n",
       "      <td>32686.0</td>\n",
       "      <td>32686.0</td>\n",
       "      <td>32686.0</td>\n",
       "      <td>32686.0</td>\n",
       "      <td>32686.0</td>\n",
       "    </tr>\n",
       "    <tr>\n",
       "      <td>mean</td>\n",
       "      <td>1.478047e+09</td>\n",
       "      <td>207.0</td>\n",
       "      <td>51.0</td>\n",
       "      <td>30.0</td>\n",
       "      <td>75.0</td>\n",
       "      <td>143.0</td>\n",
       "      <td>6.0</td>\n",
       "      <td>12.0</td>\n",
       "      <td>10.0</td>\n",
       "      <td>2016.0</td>\n",
       "      <td>11.0</td>\n",
       "    </tr>\n",
       "    <tr>\n",
       "      <td>std</td>\n",
       "      <td>3.005037e+06</td>\n",
       "      <td>316.0</td>\n",
       "      <td>6.0</td>\n",
       "      <td>0.0</td>\n",
       "      <td>26.0</td>\n",
       "      <td>83.0</td>\n",
       "      <td>3.0</td>\n",
       "      <td>7.0</td>\n",
       "      <td>1.0</td>\n",
       "      <td>0.0</td>\n",
       "      <td>0.0</td>\n",
       "    </tr>\n",
       "    <tr>\n",
       "      <td>min</td>\n",
       "      <td>1.472724e+09</td>\n",
       "      <td>1.0</td>\n",
       "      <td>34.0</td>\n",
       "      <td>30.0</td>\n",
       "      <td>8.0</td>\n",
       "      <td>0.0</td>\n",
       "      <td>0.0</td>\n",
       "      <td>0.0</td>\n",
       "      <td>1.0</td>\n",
       "      <td>2016.0</td>\n",
       "      <td>11.0</td>\n",
       "    </tr>\n",
       "    <tr>\n",
       "      <td>25%</td>\n",
       "      <td>1.475546e+09</td>\n",
       "      <td>1.0</td>\n",
       "      <td>46.0</td>\n",
       "      <td>30.0</td>\n",
       "      <td>56.0</td>\n",
       "      <td>82.0</td>\n",
       "      <td>3.0</td>\n",
       "      <td>6.0</td>\n",
       "      <td>10.0</td>\n",
       "      <td>2016.0</td>\n",
       "      <td>11.0</td>\n",
       "    </tr>\n",
       "    <tr>\n",
       "      <td>50%</td>\n",
       "      <td>1.478026e+09</td>\n",
       "      <td>3.0</td>\n",
       "      <td>50.0</td>\n",
       "      <td>30.0</td>\n",
       "      <td>85.0</td>\n",
       "      <td>148.0</td>\n",
       "      <td>6.0</td>\n",
       "      <td>12.0</td>\n",
       "      <td>11.0</td>\n",
       "      <td>2016.0</td>\n",
       "      <td>11.0</td>\n",
       "    </tr>\n",
       "    <tr>\n",
       "      <td>75%</td>\n",
       "      <td>1.480480e+09</td>\n",
       "      <td>354.0</td>\n",
       "      <td>55.0</td>\n",
       "      <td>30.0</td>\n",
       "      <td>97.0</td>\n",
       "      <td>179.0</td>\n",
       "      <td>8.0</td>\n",
       "      <td>18.0</td>\n",
       "      <td>11.0</td>\n",
       "      <td>2016.0</td>\n",
       "      <td>12.0</td>\n",
       "    </tr>\n",
       "    <tr>\n",
       "      <td>max</td>\n",
       "      <td>1.483265e+09</td>\n",
       "      <td>1601.0</td>\n",
       "      <td>71.0</td>\n",
       "      <td>31.0</td>\n",
       "      <td>103.0</td>\n",
       "      <td>360.0</td>\n",
       "      <td>40.0</td>\n",
       "      <td>23.0</td>\n",
       "      <td>12.0</td>\n",
       "      <td>2017.0</td>\n",
       "      <td>12.0</td>\n",
       "    </tr>\n",
       "  </tbody>\n",
       "</table>\n",
       "</div>"
      ],
      "text/plain": [
       "           UNIXTime  Radiation  Temperature  Pressure  Humidity  \\\n",
       "count  3.268600e+04    32686.0      32686.0   32686.0   32686.0   \n",
       "mean   1.478047e+09      207.0         51.0      30.0      75.0   \n",
       "std    3.005037e+06      316.0          6.0       0.0      26.0   \n",
       "min    1.472724e+09        1.0         34.0      30.0       8.0   \n",
       "25%    1.475546e+09        1.0         46.0      30.0      56.0   \n",
       "50%    1.478026e+09        3.0         50.0      30.0      85.0   \n",
       "75%    1.480480e+09      354.0         55.0      30.0      97.0   \n",
       "max    1.483265e+09     1601.0         71.0      31.0     103.0   \n",
       "\n",
       "       WindDirection(Degrees)    Speed     Hour    Month     Year  Total_Time  \n",
       "count                 32686.0  32686.0  32686.0  32686.0  32686.0     32686.0  \n",
       "mean                    143.0      6.0     12.0     10.0   2016.0        11.0  \n",
       "std                      83.0      3.0      7.0      1.0      0.0         0.0  \n",
       "min                       0.0      0.0      0.0      1.0   2016.0        11.0  \n",
       "25%                      82.0      3.0      6.0     10.0   2016.0        11.0  \n",
       "50%                     148.0      6.0     12.0     11.0   2016.0        11.0  \n",
       "75%                     179.0      8.0     18.0     11.0   2016.0        12.0  \n",
       "max                     360.0     40.0     23.0     12.0   2017.0        12.0  "
      ]
     },
     "execution_count": 11,
     "metadata": {},
     "output_type": "execute_result"
    }
   ],
   "source": [
    "round(df.describe())"
   ]
  },
  {
   "cell_type": "code",
   "execution_count": 12,
   "metadata": {},
   "outputs": [
    {
     "data": {
      "text/plain": [
       "1.22       2264\n",
       "1.23       2110\n",
       "1.21       2010\n",
       "1.24       1725\n",
       "1.20       1558\n",
       "           ... \n",
       "601.96        1\n",
       "658.63        1\n",
       "108.51        1\n",
       "1040.07       1\n",
       "322.68        1\n",
       "Name: Radiation, Length: 14434, dtype: int64"
      ]
     },
     "execution_count": 12,
     "metadata": {},
     "output_type": "execute_result"
    }
   ],
   "source": [
    "df.Radiation.value_counts()"
   ]
  },
  {
   "cell_type": "markdown",
   "metadata": {},
   "source": [
    "Remove rows where radiation is over 500. This is around 6000 rows."
   ]
  },
  {
   "cell_type": "code",
   "execution_count": 13,
   "metadata": {},
   "outputs": [],
   "source": [
    "df = df[df[\"Radiation\"] < 500]"
   ]
  },
  {
   "cell_type": "code",
   "execution_count": 14,
   "metadata": {},
   "outputs": [
    {
     "data": {
      "text/html": [
       "<div>\n",
       "<style scoped>\n",
       "    .dataframe tbody tr th:only-of-type {\n",
       "        vertical-align: middle;\n",
       "    }\n",
       "\n",
       "    .dataframe tbody tr th {\n",
       "        vertical-align: top;\n",
       "    }\n",
       "\n",
       "    .dataframe thead th {\n",
       "        text-align: right;\n",
       "    }\n",
       "</style>\n",
       "<table border=\"1\" class=\"dataframe\">\n",
       "  <thead>\n",
       "    <tr style=\"text-align: right;\">\n",
       "      <th></th>\n",
       "      <th>UNIXTime</th>\n",
       "      <th>Radiation</th>\n",
       "      <th>Temperature</th>\n",
       "      <th>Pressure</th>\n",
       "      <th>Humidity</th>\n",
       "      <th>WindDirection(Degrees)</th>\n",
       "      <th>Speed</th>\n",
       "      <th>Hour</th>\n",
       "      <th>Month</th>\n",
       "      <th>Year</th>\n",
       "      <th>Total_Time</th>\n",
       "    </tr>\n",
       "  </thead>\n",
       "  <tbody>\n",
       "    <tr>\n",
       "      <td>count</td>\n",
       "      <td>2.640900e+04</td>\n",
       "      <td>26409.0</td>\n",
       "      <td>26409.0</td>\n",
       "      <td>26409.0</td>\n",
       "      <td>26409.0</td>\n",
       "      <td>26409.0</td>\n",
       "      <td>26409.0</td>\n",
       "      <td>26409.0</td>\n",
       "      <td>26409.0</td>\n",
       "      <td>26409.0</td>\n",
       "      <td>26409.0</td>\n",
       "    </tr>\n",
       "    <tr>\n",
       "      <td>mean</td>\n",
       "      <td>1.478129e+09</td>\n",
       "      <td>68.0</td>\n",
       "      <td>49.0</td>\n",
       "      <td>30.0</td>\n",
       "      <td>78.0</td>\n",
       "      <td>151.0</td>\n",
       "      <td>6.0</td>\n",
       "      <td>12.0</td>\n",
       "      <td>11.0</td>\n",
       "      <td>2016.0</td>\n",
       "      <td>11.0</td>\n",
       "    </tr>\n",
       "    <tr>\n",
       "      <td>std</td>\n",
       "      <td>3.045428e+06</td>\n",
       "      <td>128.0</td>\n",
       "      <td>5.0</td>\n",
       "      <td>0.0</td>\n",
       "      <td>25.0</td>\n",
       "      <td>73.0</td>\n",
       "      <td>3.0</td>\n",
       "      <td>8.0</td>\n",
       "      <td>1.0</td>\n",
       "      <td>0.0</td>\n",
       "      <td>0.0</td>\n",
       "    </tr>\n",
       "    <tr>\n",
       "      <td>min</td>\n",
       "      <td>1.472724e+09</td>\n",
       "      <td>1.0</td>\n",
       "      <td>34.0</td>\n",
       "      <td>30.0</td>\n",
       "      <td>8.0</td>\n",
       "      <td>0.0</td>\n",
       "      <td>0.0</td>\n",
       "      <td>0.0</td>\n",
       "      <td>1.0</td>\n",
       "      <td>2016.0</td>\n",
       "      <td>11.0</td>\n",
       "    </tr>\n",
       "    <tr>\n",
       "      <td>25%</td>\n",
       "      <td>1.475567e+09</td>\n",
       "      <td>1.0</td>\n",
       "      <td>46.0</td>\n",
       "      <td>30.0</td>\n",
       "      <td>62.0</td>\n",
       "      <td>112.0</td>\n",
       "      <td>3.0</td>\n",
       "      <td>4.0</td>\n",
       "      <td>10.0</td>\n",
       "      <td>2016.0</td>\n",
       "      <td>11.0</td>\n",
       "    </tr>\n",
       "    <tr>\n",
       "      <td>50%</td>\n",
       "      <td>1.478147e+09</td>\n",
       "      <td>1.0</td>\n",
       "      <td>48.0</td>\n",
       "      <td>30.0</td>\n",
       "      <td>89.0</td>\n",
       "      <td>156.0</td>\n",
       "      <td>6.0</td>\n",
       "      <td>12.0</td>\n",
       "      <td>11.0</td>\n",
       "      <td>2016.0</td>\n",
       "      <td>11.0</td>\n",
       "    </tr>\n",
       "    <tr>\n",
       "      <td>75%</td>\n",
       "      <td>1.480765e+09</td>\n",
       "      <td>56.0</td>\n",
       "      <td>52.0</td>\n",
       "      <td>30.0</td>\n",
       "      <td>99.0</td>\n",
       "      <td>181.0</td>\n",
       "      <td>8.0</td>\n",
       "      <td>19.0</td>\n",
       "      <td>12.0</td>\n",
       "      <td>2016.0</td>\n",
       "      <td>12.0</td>\n",
       "    </tr>\n",
       "    <tr>\n",
       "      <td>max</td>\n",
       "      <td>1.483265e+09</td>\n",
       "      <td>500.0</td>\n",
       "      <td>70.0</td>\n",
       "      <td>31.0</td>\n",
       "      <td>103.0</td>\n",
       "      <td>360.0</td>\n",
       "      <td>38.0</td>\n",
       "      <td>23.0</td>\n",
       "      <td>12.0</td>\n",
       "      <td>2017.0</td>\n",
       "      <td>12.0</td>\n",
       "    </tr>\n",
       "  </tbody>\n",
       "</table>\n",
       "</div>"
      ],
      "text/plain": [
       "           UNIXTime  Radiation  Temperature  Pressure  Humidity  \\\n",
       "count  2.640900e+04    26409.0      26409.0   26409.0   26409.0   \n",
       "mean   1.478129e+09       68.0         49.0      30.0      78.0   \n",
       "std    3.045428e+06      128.0          5.0       0.0      25.0   \n",
       "min    1.472724e+09        1.0         34.0      30.0       8.0   \n",
       "25%    1.475567e+09        1.0         46.0      30.0      62.0   \n",
       "50%    1.478147e+09        1.0         48.0      30.0      89.0   \n",
       "75%    1.480765e+09       56.0         52.0      30.0      99.0   \n",
       "max    1.483265e+09      500.0         70.0      31.0     103.0   \n",
       "\n",
       "       WindDirection(Degrees)    Speed     Hour    Month     Year  Total_Time  \n",
       "count                 26409.0  26409.0  26409.0  26409.0  26409.0     26409.0  \n",
       "mean                    151.0      6.0     12.0     11.0   2016.0        11.0  \n",
       "std                      73.0      3.0      8.0      1.0      0.0         0.0  \n",
       "min                       0.0      0.0      0.0      1.0   2016.0        11.0  \n",
       "25%                     112.0      3.0      4.0     10.0   2016.0        11.0  \n",
       "50%                     156.0      6.0     12.0     11.0   2016.0        11.0  \n",
       "75%                     181.0      8.0     19.0     12.0   2016.0        12.0  \n",
       "max                     360.0     38.0     23.0     12.0   2017.0        12.0  "
      ]
     },
     "execution_count": 14,
     "metadata": {},
     "output_type": "execute_result"
    }
   ],
   "source": [
    "round(df.describe())"
   ]
  },
  {
   "cell_type": "code",
   "execution_count": 15,
   "metadata": {},
   "outputs": [
    {
     "data": {
      "text/plain": [
       "(26409, 11)"
      ]
     },
     "execution_count": 15,
     "metadata": {},
     "output_type": "execute_result"
    }
   ],
   "source": [
    "df.shape"
   ]
  },
  {
   "cell_type": "markdown",
   "metadata": {},
   "source": [
    "### Correlation\n",
    "\n",
    "1. Nothing over 90%\n",
    "2. Significant correlation between radiation & temperature"
   ]
  },
  {
   "cell_type": "code",
   "execution_count": 16,
   "metadata": {},
   "outputs": [
    {
     "data": {
      "text/html": [
       "<div>\n",
       "<style scoped>\n",
       "    .dataframe tbody tr th:only-of-type {\n",
       "        vertical-align: middle;\n",
       "    }\n",
       "\n",
       "    .dataframe tbody tr th {\n",
       "        vertical-align: top;\n",
       "    }\n",
       "\n",
       "    .dataframe thead th {\n",
       "        text-align: right;\n",
       "    }\n",
       "</style>\n",
       "<table border=\"1\" class=\"dataframe\">\n",
       "  <thead>\n",
       "    <tr style=\"text-align: right;\">\n",
       "      <th></th>\n",
       "      <th>UNIXTime</th>\n",
       "      <th>Radiation</th>\n",
       "      <th>Temperature</th>\n",
       "      <th>Pressure</th>\n",
       "      <th>Humidity</th>\n",
       "      <th>WindDirection(Degrees)</th>\n",
       "      <th>Speed</th>\n",
       "      <th>Hour</th>\n",
       "      <th>Month</th>\n",
       "      <th>Year</th>\n",
       "      <th>Total_Time</th>\n",
       "    </tr>\n",
       "  </thead>\n",
       "  <tbody>\n",
       "    <tr>\n",
       "      <td>UNIXTime</td>\n",
       "      <td>1.000000</td>\n",
       "      <td>-0.018351</td>\n",
       "      <td>-0.428263</td>\n",
       "      <td>-0.348170</td>\n",
       "      <td>-0.087745</td>\n",
       "      <td>0.167282</td>\n",
       "      <td>0.184761</td>\n",
       "      <td>-0.004569</td>\n",
       "      <td>0.784590</td>\n",
       "      <td>0.110169</td>\n",
       "      <td>-0.825456</td>\n",
       "    </tr>\n",
       "    <tr>\n",
       "      <td>Radiation</td>\n",
       "      <td>-0.018351</td>\n",
       "      <td>1.000000</td>\n",
       "      <td>0.540100</td>\n",
       "      <td>0.006361</td>\n",
       "      <td>0.027095</td>\n",
       "      <td>-0.179500</td>\n",
       "      <td>-0.010711</td>\n",
       "      <td>0.015513</td>\n",
       "      <td>-0.022469</td>\n",
       "      <td>-0.001593</td>\n",
       "      <td>0.021763</td>\n",
       "    </tr>\n",
       "    <tr>\n",
       "      <td>Temperature</td>\n",
       "      <td>-0.428263</td>\n",
       "      <td>0.540100</td>\n",
       "      <td>1.000000</td>\n",
       "      <td>0.304900</td>\n",
       "      <td>-0.057524</td>\n",
       "      <td>-0.226110</td>\n",
       "      <td>-0.124935</td>\n",
       "      <td>0.280043</td>\n",
       "      <td>-0.332612</td>\n",
       "      <td>-0.038460</td>\n",
       "      <td>0.381117</td>\n",
       "    </tr>\n",
       "    <tr>\n",
       "      <td>Pressure</td>\n",
       "      <td>-0.348170</td>\n",
       "      <td>0.006361</td>\n",
       "      <td>0.304900</td>\n",
       "      <td>1.000000</td>\n",
       "      <td>-0.193913</td>\n",
       "      <td>-0.231035</td>\n",
       "      <td>-0.052384</td>\n",
       "      <td>0.123662</td>\n",
       "      <td>-0.247087</td>\n",
       "      <td>-0.118181</td>\n",
       "      <td>0.167463</td>\n",
       "    </tr>\n",
       "    <tr>\n",
       "      <td>Humidity</td>\n",
       "      <td>-0.087745</td>\n",
       "      <td>0.027095</td>\n",
       "      <td>-0.057524</td>\n",
       "      <td>-0.193913</td>\n",
       "      <td>1.000000</td>\n",
       "      <td>-0.076749</td>\n",
       "      <td>-0.246374</td>\n",
       "      <td>0.082576</td>\n",
       "      <td>-0.089913</td>\n",
       "      <td>0.021150</td>\n",
       "      <td>0.157457</td>\n",
       "    </tr>\n",
       "    <tr>\n",
       "      <td>WindDirection(Degrees)</td>\n",
       "      <td>0.167282</td>\n",
       "      <td>-0.179500</td>\n",
       "      <td>-0.226110</td>\n",
       "      <td>-0.231035</td>\n",
       "      <td>-0.076749</td>\n",
       "      <td>1.000000</td>\n",
       "      <td>0.114566</td>\n",
       "      <td>-0.096452</td>\n",
       "      <td>0.105504</td>\n",
       "      <td>0.110119</td>\n",
       "      <td>-0.084603</td>\n",
       "    </tr>\n",
       "    <tr>\n",
       "      <td>Speed</td>\n",
       "      <td>0.184761</td>\n",
       "      <td>-0.010711</td>\n",
       "      <td>-0.124935</td>\n",
       "      <td>-0.052384</td>\n",
       "      <td>-0.246374</td>\n",
       "      <td>0.114566</td>\n",
       "      <td>1.000000</td>\n",
       "      <td>-0.077006</td>\n",
       "      <td>0.119943</td>\n",
       "      <td>0.035194</td>\n",
       "      <td>-0.178051</td>\n",
       "    </tr>\n",
       "    <tr>\n",
       "      <td>Hour</td>\n",
       "      <td>-0.004569</td>\n",
       "      <td>0.015513</td>\n",
       "      <td>0.280043</td>\n",
       "      <td>0.123662</td>\n",
       "      <td>0.082576</td>\n",
       "      <td>-0.096452</td>\n",
       "      <td>-0.077006</td>\n",
       "      <td>1.000000</td>\n",
       "      <td>-0.041207</td>\n",
       "      <td>0.061582</td>\n",
       "      <td>0.014902</td>\n",
       "    </tr>\n",
       "    <tr>\n",
       "      <td>Month</td>\n",
       "      <td>0.784590</td>\n",
       "      <td>-0.022469</td>\n",
       "      <td>-0.332612</td>\n",
       "      <td>-0.247087</td>\n",
       "      <td>-0.089913</td>\n",
       "      <td>0.105504</td>\n",
       "      <td>0.119943</td>\n",
       "      <td>-0.041207</td>\n",
       "      <td>1.000000</td>\n",
       "      <td>-0.490766</td>\n",
       "      <td>-0.665131</td>\n",
       "    </tr>\n",
       "    <tr>\n",
       "      <td>Year</td>\n",
       "      <td>0.110169</td>\n",
       "      <td>-0.001593</td>\n",
       "      <td>-0.038460</td>\n",
       "      <td>-0.118181</td>\n",
       "      <td>0.021150</td>\n",
       "      <td>0.110119</td>\n",
       "      <td>0.035194</td>\n",
       "      <td>0.061582</td>\n",
       "      <td>-0.490766</td>\n",
       "      <td>1.000000</td>\n",
       "      <td>-0.047332</td>\n",
       "    </tr>\n",
       "    <tr>\n",
       "      <td>Total_Time</td>\n",
       "      <td>-0.825456</td>\n",
       "      <td>0.021763</td>\n",
       "      <td>0.381117</td>\n",
       "      <td>0.167463</td>\n",
       "      <td>0.157457</td>\n",
       "      <td>-0.084603</td>\n",
       "      <td>-0.178051</td>\n",
       "      <td>0.014902</td>\n",
       "      <td>-0.665131</td>\n",
       "      <td>-0.047332</td>\n",
       "      <td>1.000000</td>\n",
       "    </tr>\n",
       "  </tbody>\n",
       "</table>\n",
       "</div>"
      ],
      "text/plain": [
       "                        UNIXTime  Radiation  Temperature  Pressure  Humidity  \\\n",
       "UNIXTime                1.000000  -0.018351    -0.428263 -0.348170 -0.087745   \n",
       "Radiation              -0.018351   1.000000     0.540100  0.006361  0.027095   \n",
       "Temperature            -0.428263   0.540100     1.000000  0.304900 -0.057524   \n",
       "Pressure               -0.348170   0.006361     0.304900  1.000000 -0.193913   \n",
       "Humidity               -0.087745   0.027095    -0.057524 -0.193913  1.000000   \n",
       "WindDirection(Degrees)  0.167282  -0.179500    -0.226110 -0.231035 -0.076749   \n",
       "Speed                   0.184761  -0.010711    -0.124935 -0.052384 -0.246374   \n",
       "Hour                   -0.004569   0.015513     0.280043  0.123662  0.082576   \n",
       "Month                   0.784590  -0.022469    -0.332612 -0.247087 -0.089913   \n",
       "Year                    0.110169  -0.001593    -0.038460 -0.118181  0.021150   \n",
       "Total_Time             -0.825456   0.021763     0.381117  0.167463  0.157457   \n",
       "\n",
       "                        WindDirection(Degrees)     Speed      Hour     Month  \\\n",
       "UNIXTime                              0.167282  0.184761 -0.004569  0.784590   \n",
       "Radiation                            -0.179500 -0.010711  0.015513 -0.022469   \n",
       "Temperature                          -0.226110 -0.124935  0.280043 -0.332612   \n",
       "Pressure                             -0.231035 -0.052384  0.123662 -0.247087   \n",
       "Humidity                             -0.076749 -0.246374  0.082576 -0.089913   \n",
       "WindDirection(Degrees)                1.000000  0.114566 -0.096452  0.105504   \n",
       "Speed                                 0.114566  1.000000 -0.077006  0.119943   \n",
       "Hour                                 -0.096452 -0.077006  1.000000 -0.041207   \n",
       "Month                                 0.105504  0.119943 -0.041207  1.000000   \n",
       "Year                                  0.110119  0.035194  0.061582 -0.490766   \n",
       "Total_Time                           -0.084603 -0.178051  0.014902 -0.665131   \n",
       "\n",
       "                            Year  Total_Time  \n",
       "UNIXTime                0.110169   -0.825456  \n",
       "Radiation              -0.001593    0.021763  \n",
       "Temperature            -0.038460    0.381117  \n",
       "Pressure               -0.118181    0.167463  \n",
       "Humidity                0.021150    0.157457  \n",
       "WindDirection(Degrees)  0.110119   -0.084603  \n",
       "Speed                   0.035194   -0.178051  \n",
       "Hour                    0.061582    0.014902  \n",
       "Month                  -0.490766   -0.665131  \n",
       "Year                    1.000000   -0.047332  \n",
       "Total_Time             -0.047332    1.000000  "
      ]
     },
     "execution_count": 16,
     "metadata": {},
     "output_type": "execute_result"
    }
   ],
   "source": [
    "corr_matrix = df.corr()\n",
    "corr_matrix"
   ]
  },
  {
   "cell_type": "code",
   "execution_count": 17,
   "metadata": {},
   "outputs": [
    {
     "data": {
      "text/plain": [
       "[]"
      ]
     },
     "execution_count": 17,
     "metadata": {},
     "output_type": "execute_result"
    }
   ],
   "source": [
    "corr_matrix = df.corr().abs()\n",
    "upper = corr_matrix.where(np.triu(np.ones(corr_matrix.shape), k=1).astype(np.bool))\n",
    "to_drop = [column for column in upper.columns if any(upper[column] > 0.9)]\n",
    "to_drop"
   ]
  },
  {
   "cell_type": "code",
   "execution_count": 18,
   "metadata": {},
   "outputs": [
    {
     "data": {
      "image/png": "[encoded data removed]",
      "text/plain": [
       "<Figure size 432x288 with 2 Axes>"
      ]
     },
     "metadata": {},
     "output_type": "display_data"
    }
   ],
   "source": [
    "#sns.heatmap(corr_matrix, cmap=\"BuPu\")\n",
    "\n",
    "mask = np.zeros_like(corr_matrix)\n",
    "mask[np.triu_indices_from(mask)] = True\n",
    "with sns.axes_style(\"white\"):\n",
    "    p2 = sns.heatmap(corr_matrix, mask=mask, square=True, cmap='cool')\n"
   ]
  },
  {
   "cell_type": "markdown",
   "metadata": {},
   "source": [
    "# Visualisations"
   ]
  },
  {
   "cell_type": "code",
   "execution_count": 19,
   "metadata": {},
   "outputs": [
    {
     "data": {
      "text/plain": [
       "<matplotlib.axes._subplots.AxesSubplot at 0x1a1c569990>"
      ]
     },
     "execution_count": 19,
     "metadata": {},
     "output_type": "execute_result"
    },
    {
     "data": {
      "image/png": "[encoded data removed]",
      "text/plain": [
       "<Figure size 432x288 with 1 Axes>"
      ]
     },
     "metadata": {
      "needs_background": "light"
     },
     "output_type": "display_data"
    }
   ],
   "source": [
    "sns.distplot(df[\"Radiation\"], bins=20)"
   ]
  },
  {
   "cell_type": "code",
   "execution_count": 20,
   "metadata": {},
   "outputs": [
    {
     "data": {
      "image/png": "[encoded data removed]",
      "text/plain": [
       "<Figure size 432x432 with 3 Axes>"
      ]
     },
     "metadata": {
      "needs_background": "light"
     },
     "output_type": "display_data"
    }
   ],
   "source": [
    "g = sns.jointplot(x=\"Radiation\", y=\"Temperature\", data=df)\n",
    "plt.subplots_adjust(top=0.9)\n",
    "g.fig.suptitle('Temp vs. Radiation');"
   ]
  },
  {
   "cell_type": "code",
   "execution_count": 21,
   "metadata": {},
   "outputs": [
    {
     "data": {
      "image/png": "[encoded data removed]",
      "text/plain": [
       "<Figure size 432x288 with 1 Axes>"
      ]
     },
     "metadata": {
      "needs_background": "light"
     },
     "output_type": "display_data"
    }
   ],
   "source": [
    "ax = plt.axes()\n",
    "sns.barplot(x=\"Hour\", y='Radiation', data=df, palette=\"BuPu\", ax = ax)\n",
    "ax.set_title(\"Mean Radiation by Hour\")\n",
    "plt.show()"
   ]
  },
  {
   "cell_type": "code",
   "execution_count": 22,
   "metadata": {},
   "outputs": [
    {
     "data": {
      "image/png": "[encoded data removed]",
      "text/plain": [
       "<Figure size 432x288 with 1 Axes>"
      ]
     },
     "metadata": {
      "needs_background": "light"
     },
     "output_type": "display_data"
    }
   ],
   "source": [
    "ax = plt.axes()\n",
    "sns.barplot(x=\"Month\", y=\"Radiation\", data=df, palette=\"BuPu\", ax = ax, order=[9,10,11,12,1])\n",
    "ax.set_title(\"Mean Radiation by Month\")\n",
    "plt.show()"
   ]
  },
  {
   "cell_type": "code",
   "execution_count": 23,
   "metadata": {},
   "outputs": [
    {
     "data": {
      "image/png": "[encoded data removed]",
      "text/plain": [
       "<Figure size 432x288 with 1 Axes>"
      ]
     },
     "metadata": {
      "needs_background": "light"
     },
     "output_type": "display_data"
    }
   ],
   "source": [
    "ax = plt.axes()\n",
    "sns.barplot(x=\"Hour\", y='Humidity', data=df, palette=(\"coolwarm\"), ax = ax)\n",
    "ax.set_title(\"Humidity by Hour\")\n",
    "plt.show()"
   ]
  },
  {
   "cell_type": "code",
   "execution_count": 24,
   "metadata": {},
   "outputs": [
    {
     "data": {
      "image/png": "[encoded data removed]",
      "text/plain": [
       "<Figure size 432x288 with 1 Axes>"
      ]
     },
     "metadata": {
      "needs_background": "light"
     },
     "output_type": "display_data"
    }
   ],
   "source": [
    "ax = plt.axes()\n",
    "sns.barplot(x=\"Total_Time\", y='Radiation', data=df, palette=\"BuPu\", ax = ax)\n",
    "ax.set_title(\"Radiation by Total Daylight Hours\")\n",
    "plt.show()"
   ]
  },
  {
   "cell_type": "markdown",
   "metadata": {},
   "source": [
    "# Supervised Learning\n",
    "\n",
    "###### Let's build different prediction models and test which one is the best\n",
    "\n",
    "## Linear Regression"
   ]
  },
  {
   "cell_type": "code",
   "execution_count": 25,
   "metadata": {},
   "outputs": [
    {
     "data": {
      "text/html": [
       "<div>\n",
       "<style scoped>\n",
       "    .dataframe tbody tr th:only-of-type {\n",
       "        vertical-align: middle;\n",
       "    }\n",
       "\n",
       "    .dataframe tbody tr th {\n",
       "        vertical-align: top;\n",
       "    }\n",
       "\n",
       "    .dataframe thead th {\n",
       "        text-align: right;\n",
       "    }\n",
       "</style>\n",
       "<table border=\"1\" class=\"dataframe\">\n",
       "  <thead>\n",
       "    <tr style=\"text-align: right;\">\n",
       "      <th></th>\n",
       "      <th>UNIXTime</th>\n",
       "      <th>Radiation</th>\n",
       "      <th>Temperature</th>\n",
       "      <th>Pressure</th>\n",
       "      <th>Humidity</th>\n",
       "      <th>WindDirection(Degrees)</th>\n",
       "      <th>Speed</th>\n",
       "      <th>Hour</th>\n",
       "      <th>Month</th>\n",
       "      <th>Year</th>\n",
       "      <th>Total_Time</th>\n",
       "    </tr>\n",
       "  </thead>\n",
       "  <tbody>\n",
       "    <tr>\n",
       "      <td>0</td>\n",
       "      <td>1475229326</td>\n",
       "      <td>1.21</td>\n",
       "      <td>48</td>\n",
       "      <td>30.46</td>\n",
       "      <td>59</td>\n",
       "      <td>177.39</td>\n",
       "      <td>5.62</td>\n",
       "      <td>23</td>\n",
       "      <td>9</td>\n",
       "      <td>2016</td>\n",
       "      <td>12</td>\n",
       "    </tr>\n",
       "    <tr>\n",
       "      <td>1</td>\n",
       "      <td>1475229023</td>\n",
       "      <td>1.21</td>\n",
       "      <td>48</td>\n",
       "      <td>30.46</td>\n",
       "      <td>58</td>\n",
       "      <td>176.78</td>\n",
       "      <td>3.37</td>\n",
       "      <td>23</td>\n",
       "      <td>9</td>\n",
       "      <td>2016</td>\n",
       "      <td>12</td>\n",
       "    </tr>\n",
       "    <tr>\n",
       "      <td>2</td>\n",
       "      <td>1475228726</td>\n",
       "      <td>1.23</td>\n",
       "      <td>48</td>\n",
       "      <td>30.46</td>\n",
       "      <td>57</td>\n",
       "      <td>158.75</td>\n",
       "      <td>3.37</td>\n",
       "      <td>23</td>\n",
       "      <td>9</td>\n",
       "      <td>2016</td>\n",
       "      <td>12</td>\n",
       "    </tr>\n",
       "    <tr>\n",
       "      <td>3</td>\n",
       "      <td>1475228421</td>\n",
       "      <td>1.21</td>\n",
       "      <td>48</td>\n",
       "      <td>30.46</td>\n",
       "      <td>60</td>\n",
       "      <td>137.71</td>\n",
       "      <td>3.37</td>\n",
       "      <td>23</td>\n",
       "      <td>9</td>\n",
       "      <td>2016</td>\n",
       "      <td>12</td>\n",
       "    </tr>\n",
       "    <tr>\n",
       "      <td>4</td>\n",
       "      <td>1475228124</td>\n",
       "      <td>1.17</td>\n",
       "      <td>48</td>\n",
       "      <td>30.46</td>\n",
       "      <td>62</td>\n",
       "      <td>104.95</td>\n",
       "      <td>5.62</td>\n",
       "      <td>23</td>\n",
       "      <td>9</td>\n",
       "      <td>2016</td>\n",
       "      <td>12</td>\n",
       "    </tr>\n",
       "  </tbody>\n",
       "</table>\n",
       "</div>"
      ],
      "text/plain": [
       "     UNIXTime  Radiation  Temperature  Pressure  Humidity  \\\n",
       "0  1475229326       1.21           48     30.46        59   \n",
       "1  1475229023       1.21           48     30.46        58   \n",
       "2  1475228726       1.23           48     30.46        57   \n",
       "3  1475228421       1.21           48     30.46        60   \n",
       "4  1475228124       1.17           48     30.46        62   \n",
       "\n",
       "   WindDirection(Degrees)  Speed  Hour  Month  Year  Total_Time  \n",
       "0                  177.39   5.62    23      9  2016          12  \n",
       "1                  176.78   3.37    23      9  2016          12  \n",
       "2                  158.75   3.37    23      9  2016          12  \n",
       "3                  137.71   3.37    23      9  2016          12  \n",
       "4                  104.95   5.62    23      9  2016          12  "
      ]
     },
     "execution_count": 25,
     "metadata": {},
     "output_type": "execute_result"
    }
   ],
   "source": [
    "df.head(5)"
   ]
  },
  {
   "cell_type": "code",
   "execution_count": 26,
   "metadata": {},
   "outputs": [],
   "source": [
    "X_train,  X_test, y_train, y_test = train_test_split(df.drop(columns=\"Radiation\", axis=1),\n",
    "                                                     df.Radiation, test_size=0.33, random_state=42)"
   ]
  },
  {
   "cell_type": "code",
   "execution_count": 27,
   "metadata": {},
   "outputs": [
    {
     "data": {
      "text/plain": [
       "array([-24.2782305 ,   0.47908612, -10.24239065, ...,   8.08148444,\n",
       "        46.35730663,  27.34743056])"
      ]
     },
     "execution_count": 27,
     "metadata": {},
     "output_type": "execute_result"
    }
   ],
   "source": [
    "linear_model = LinearRegression().fit(X_train, y_train)\n",
    "y_test_pred = linear_model.predict(X_test)\n",
    "y_test_pred"
   ]
  },
  {
   "cell_type": "code",
   "execution_count": 28,
   "metadata": {},
   "outputs": [
    {
     "name": "stdout",
     "output_type": "stream",
     "text": [
      "Average difference =  1.84\n"
     ]
    }
   ],
   "source": [
    "A_vs_P = pd.DataFrame(columns=[\"Prediction\", \"Actual\"])\n",
    "A_vs_P['Prediction'] = y_test_pred\n",
    "A_vs_P['Actual'] = list(y_test)\n",
    "\n",
    "A_vs_P[\"Difference\"] = A_vs_P['Prediction'] - A_vs_P['Actual']\n",
    "round(A_vs_P, 2).head(10)\n",
    "print(\"Average difference = \", round(A_vs_P[\"Difference\"].mean(),2))"
   ]
  },
  {
   "cell_type": "markdown",
   "metadata": {},
   "source": [
    "Intercept = the expected mean value of Y when all X=0"
   ]
  },
  {
   "cell_type": "markdown",
   "metadata": {},
   "source": [
    "Coefficient/Slope = the % increase of radiation for each change in a parameter"
   ]
  },
  {
   "cell_type": "code",
   "execution_count": 31,
   "metadata": {},
   "outputs": [
    {
     "name": "stdout",
     "output_type": "stream",
     "text": [
      "Intercept = 613041.5394654104\n"
     ]
    },
    {
     "data": {
      "text/html": [
       "<div>\n",
       "<style scoped>\n",
       "    .dataframe tbody tr th:only-of-type {\n",
       "        vertical-align: middle;\n",
       "    }\n",
       "\n",
       "    .dataframe tbody tr th {\n",
       "        vertical-align: top;\n",
       "    }\n",
       "\n",
       "    .dataframe thead th {\n",
       "        text-align: right;\n",
       "    }\n",
       "</style>\n",
       "<table border=\"1\" class=\"dataframe\">\n",
       "  <thead>\n",
       "    <tr style=\"text-align: right;\">\n",
       "      <th></th>\n",
       "      <th>Coeffecient</th>\n",
       "    </tr>\n",
       "  </thead>\n",
       "  <tbody>\n",
       "    <tr>\n",
       "      <td>UNIXTime</td>\n",
       "      <td>0.000019</td>\n",
       "    </tr>\n",
       "    <tr>\n",
       "      <td>Temperature</td>\n",
       "      <td>19.658248</td>\n",
       "    </tr>\n",
       "    <tr>\n",
       "      <td>Pressure</td>\n",
       "      <td>-272.549363</td>\n",
       "    </tr>\n",
       "    <tr>\n",
       "      <td>Humidity</td>\n",
       "      <td>0.485109</td>\n",
       "    </tr>\n",
       "    <tr>\n",
       "      <td>WindDirection(Degrees)</td>\n",
       "      <td>-0.151634</td>\n",
       "    </tr>\n",
       "    <tr>\n",
       "      <td>Speed</td>\n",
       "      <td>1.370309</td>\n",
       "    </tr>\n",
       "    <tr>\n",
       "      <td>Hour</td>\n",
       "      <td>-3.205362</td>\n",
       "    </tr>\n",
       "    <tr>\n",
       "      <td>Month</td>\n",
       "      <td>-27.843678</td>\n",
       "    </tr>\n",
       "    <tr>\n",
       "      <td>Year</td>\n",
       "      <td>-313.853764</td>\n",
       "    </tr>\n",
       "    <tr>\n",
       "      <td>Total_Time</td>\n",
       "      <td>-19.537443</td>\n",
       "    </tr>\n",
       "  </tbody>\n",
       "</table>\n",
       "</div>"
      ],
      "text/plain": [
       "                        Coeffecient\n",
       "UNIXTime                   0.000019\n",
       "Temperature               19.658248\n",
       "Pressure                -272.549363\n",
       "Humidity                   0.485109\n",
       "WindDirection(Degrees)    -0.151634\n",
       "Speed                      1.370309\n",
       "Hour                      -3.205362\n",
       "Month                    -27.843678\n",
       "Year                    -313.853764\n",
       "Total_Time               -19.537443"
      ]
     },
     "execution_count": 31,
     "metadata": {},
     "output_type": "execute_result"
    }
   ],
   "source": [
    "print(\"Intercept = \" + str(linear_model.intercept_))\n",
    "coeffecients = pd.DataFrame(linear_model.coef_,X_test.columns)\n",
    "coeffecients.columns = [\"Coeffecient\"]\n",
    "coeffecients"
   ]
  },
  {
   "cell_type": "markdown",
   "metadata": {},
   "source": [
    "1. R squared is a statistical measure of how close the data are to the fitted regression line. The closer to 1 the better.\n",
    "2. Mean Absolute Error is the distance between data points and the line. The lower the better.\n",
    "3. Mean Squared Error is the square of the distance between data points and the line. The lower the better.\n",
    "4. Root Mean Squared Error is the square root of MSE. The lower the better."
   ]
  },
  {
   "cell_type": "code",
   "execution_count": 32,
   "metadata": {},
   "outputs": [
    {
     "name": "stdout",
     "output_type": "stream",
     "text": [
      "R-squared is  0.41405488948749347\n",
      "MAE is: 72.16992779899317\n",
      "MSE is: 9589.209889926897\n",
      "RMSE is 97.92451118043377\n"
     ]
    }
   ],
   "source": [
    "scoretest = r2_score(y_test, y_test_pred)\n",
    "print(\"R-squared is \", scoretest)\n",
    "mae = mean_absolute_error(y_test, y_test_pred)\n",
    "print(\"MAE is:\", mae)\n",
    "mse = mean_squared_error(y_test, y_test_pred)\n",
    "print(\"MSE is:\", mse)\n",
    "rmse = np.sqrt(mse)\n",
    "print(\"RMSE is\", rmse)"
   ]
  },
  {
   "cell_type": "markdown",
   "metadata": {},
   "source": [
    "## Linear regression 2"
   ]
  },
  {
   "cell_type": "code",
   "execution_count": 33,
   "metadata": {},
   "outputs": [],
   "source": [
    "X_train1,  X_test1, y_train1, y_test1 = train_test_split(df.drop(columns=\"Radiation\", axis=1),\n",
    "                                                     df.Radiation, test_size=0.33, random_state=101)"
   ]
  },
  {
   "cell_type": "markdown",
   "metadata": {},
   "source": [
    "Building a step forward feature selection"
   ]
  },
  {
   "cell_type": "markdown",
   "metadata": {},
   "source": [
    "k_features selects top 8 columns most significant to achieve the target"
   ]
  },
  {
   "cell_type": "code",
   "execution_count": 34,
   "metadata": {},
   "outputs": [
    {
     "data": {
      "text/plain": [
       "(0, 1, 2, 3, 4, 5, 6, 9)"
      ]
     },
     "execution_count": 34,
     "metadata": {},
     "output_type": "execute_result"
    }
   ],
   "source": [
    "linear = LinearRegression()\n",
    "sfs1 = sfs(linear, k_features = 8, forward=True, floating=False, scoring=\"neg_mean_squared_error\")\n",
    "sfs1 = sfs1.fit(X_train1, y_train1)\n",
    "sfs1.k_feature_idx_"
   ]
  },
  {
   "cell_type": "markdown",
   "metadata": {},
   "source": [
    "These are the column numbers that are highly significant to achieve the target"
   ]
  },
  {
   "cell_type": "code",
   "execution_count": 35,
   "metadata": {},
   "outputs": [
    {
     "name": "stdout",
     "output_type": "stream",
     "text": [
      "[0, 1, 2, 3, 4, 5, 6, 9]\n"
     ]
    }
   ],
   "source": [
    "feat_cols = list(sfs1.k_feature_idx_)\n",
    "print(feat_cols)"
   ]
  },
  {
   "cell_type": "code",
   "execution_count": 36,
   "metadata": {},
   "outputs": [],
   "source": [
    "linear_model_2 = LinearRegression().fit(X_train1.iloc[:,feat_cols], y_train1)\n",
    "y_test_pred1 = linear_model_2.predict(X_test1.iloc[:,feat_cols])"
   ]
  },
  {
   "cell_type": "code",
   "execution_count": 37,
   "metadata": {},
   "outputs": [
    {
     "data": {
      "text/plain": [
       "LinearRegression(copy_X=True, fit_intercept=True, n_jobs=None, normalize=False)"
      ]
     },
     "execution_count": 37,
     "metadata": {},
     "output_type": "execute_result"
    }
   ],
   "source": [
    "linear_model_2"
   ]
  },
  {
   "cell_type": "code",
   "execution_count": 38,
   "metadata": {},
   "outputs": [
    {
     "name": "stdout",
     "output_type": "stream",
     "text": [
      "Average difference =  1.01\n"
     ]
    }
   ],
   "source": [
    "A_vs_P1 = pd.DataFrame([y_test_pred1, y_test1]).T\n",
    "A_vs_P1\n",
    "\n",
    "A_vs_P1 = pd.DataFrame(columns=[\"Prediction\", \"Actual\"])\n",
    "A_vs_P1['Prediction'] = y_test_pred1\n",
    "A_vs_P1['Actual'] = list(y_test1)\n",
    "\n",
    "A_vs_P1[\"Difference\"] = A_vs_P1['Prediction'] - A_vs_P1['Actual']\n",
    "round(A_vs_P1, 2).head(10)\n",
    "print(\"Average difference = \", round(A_vs_P1[\"Difference\"].mean(),2))"
   ]
  },
  {
   "cell_type": "code",
   "execution_count": 39,
   "metadata": {},
   "outputs": [
    {
     "name": "stdout",
     "output_type": "stream",
     "text": [
      "R-squared is  0.41236347244435057\n",
      "MAE is: 71.93226357976967\n",
      "MSE is: 9685.542565816912\n",
      "RMSE is 98.41515414719885\n"
     ]
    }
   ],
   "source": [
    "scoretest1 = r2_score(y_test1, y_test_pred1)\n",
    "print(\"R-squared is \", scoretest1)\n",
    "mae1 = mean_absolute_error(y_test1, y_test_pred1)\n",
    "print(\"MAE is:\", mae1)\n",
    "mse1 = mean_squared_error(y_test1, y_test_pred1)\n",
    "print(\"MSE is:\", mse1)\n",
    "rmse1 = np.sqrt(mse1)\n",
    "print(\"RMSE is\", rmse1)"
   ]
  },
  {
   "cell_type": "markdown",
   "metadata": {},
   "source": [
    "## Decision Tree"
   ]
  },
  {
   "cell_type": "code",
   "execution_count": 40,
   "metadata": {},
   "outputs": [],
   "source": [
    "X_train2,  X_test2, y_train2, y_test2 = train_test_split(df.drop(columns=\"Radiation\", axis=1),\n",
    "                                                     df.Radiation, test_size=0.33, random_state=101)"
   ]
  },
  {
   "cell_type": "code",
   "execution_count": 41,
   "metadata": {},
   "outputs": [],
   "source": [
    "tree_model = DecisionTreeRegressor()\n",
    "tree_model.fit(X_train2, y_train2)\n",
    "y_test_pred2 = tree_model.predict(X_test2)"
   ]
  },
  {
   "cell_type": "code",
   "execution_count": 42,
   "metadata": {},
   "outputs": [
    {
     "name": "stdout",
     "output_type": "stream",
     "text": [
      "R-squared is  0.826004670600647\n",
      "MAE is: 20.498981067125644\n",
      "MSE is: 2867.825756442915\n",
      "RMSE is 53.552084520053135\n"
     ]
    }
   ],
   "source": [
    "scoretest2 = r2_score(y_test2, y_test_pred2)\n",
    "print(\"R-squared is \", scoretest2)\n",
    "mae2 = mean_absolute_error(y_test2, y_test_pred2)\n",
    "print(\"MAE is:\", mae2)\n",
    "mse2 = mean_squared_error(y_test2, y_test_pred2)\n",
    "print(\"MSE is:\", mse2)\n",
    "rmse2 = np.sqrt(mse2)\n",
    "print(\"RMSE is\", rmse2)"
   ]
  },
  {
   "cell_type": "markdown",
   "metadata": {},
   "source": [
    "## Random Forest"
   ]
  },
  {
   "cell_type": "code",
   "execution_count": 44,
   "metadata": {},
   "outputs": [],
   "source": [
    "X_train3,  X_test3, y_train3, y_test3 = train_test_split(df.drop(columns=\"Radiation\", axis=1),\n",
    "                                                     df.Radiation, test_size=0.33, random_state=101)"
   ]
  },
  {
   "cell_type": "code",
   "execution_count": 45,
   "metadata": {},
   "outputs": [
    {
     "name": "stderr",
     "output_type": "stream",
     "text": [
      "/opt/anaconda3/lib/python3.7/site-packages/sklearn/ensemble/forest.py:245: FutureWarning: The default value of n_estimators will change from 10 in version 0.20 to 100 in 0.22.\n",
      "  \"10 in version 0.20 to 100 in 0.22.\", FutureWarning)\n"
     ]
    }
   ],
   "source": [
    "rf_model = RandomForestRegressor()\n",
    "rf_model.fit(X_train3, y_train3)\n",
    "y_test_pred3 = rf_model.predict(X_test3)"
   ]
  },
  {
   "cell_type": "code",
   "execution_count": 46,
   "metadata": {},
   "outputs": [
    {
     "name": "stdout",
     "output_type": "stream",
     "text": [
      "R-squared is  0.8964293002321663\n",
      "MAE is: 17.12497532989099\n",
      "MSE is: 1707.0729509370053\n",
      "RMSE is 41.31673935509681\n"
     ]
    }
   ],
   "source": [
    "scoretest3 = r2_score(y_test3, y_test_pred3)\n",
    "print(\"R-squared is \", scoretest3)\n",
    "mae3 = mean_absolute_error(y_test3, y_test_pred3)\n",
    "print(\"MAE is:\", mae3)\n",
    "mse3 = mean_squared_error(y_test3, y_test_pred3)\n",
    "print(\"MSE is:\", mse3)\n",
    "rmse3 = np.sqrt(mse3)\n",
    "print(\"RMSE is\", rmse3)"
   ]
  },
  {
   "cell_type": "markdown",
   "metadata": {},
   "source": [
    "# K Nearest Neighbours"
   ]
  },
  {
   "cell_type": "code",
   "execution_count": 48,
   "metadata": {},
   "outputs": [],
   "source": [
    "X_train4,  X_test4, y_train4, y_test4 = train_test_split(df.drop(columns=\"Radiation\", axis=1),\n",
    "                                                     df.Radiation, test_size=0.33, random_state=101)"
   ]
  },
  {
   "cell_type": "code",
   "execution_count": 49,
   "metadata": {},
   "outputs": [],
   "source": [
    "k_model = KNeighborsRegressor()\n",
    "k_model.fit(X_train4, y_train4)\n",
    "y_test_pred4 = k_model.predict(X_test4)"
   ]
  },
  {
   "cell_type": "code",
   "execution_count": 50,
   "metadata": {},
   "outputs": [
    {
     "name": "stdout",
     "output_type": "stream",
     "text": [
      "R-squared is  0.9247003215118724\n",
      "MAE is: 13.56962662076879\n",
      "MSE is: 1241.1043340392428\n",
      "RMSE is 35.22931072330599\n"
     ]
    }
   ],
   "source": [
    "scoretest4 = r2_score(y_test4, y_test_pred4)\n",
    "print(\"R-squared is \", scoretest4)\n",
    "mae4 = mean_absolute_error(y_test4, y_test_pred4)\n",
    "print(\"MAE is:\", mae4)\n",
    "mse4 = mean_squared_error(y_test4, y_test_pred4)\n",
    "print(\"MSE is:\", mse4)\n",
    "rmse4 = np.sqrt(mse4)\n",
    "print(\"RMSE is\", rmse4)"
   ]
  },
  {
   "cell_type": "markdown",
   "metadata": {},
   "source": [
    "# Model Comparison"
   ]
  },
  {
   "cell_type": "markdown",
   "metadata": {},
   "source": [
    "We can see here that the K Nearest Neighbour algorithm is the best for predicting solar radiation and it has the highest R-squared score and the lowest Mean Absolute Error, Mean Squared Error and Root Mean Squared Error."
   ]
  },
  {
   "cell_type": "code",
   "execution_count": 51,
   "metadata": {},
   "outputs": [
    {
     "data": {
      "text/html": [
       "<div>\n",
       "<style scoped>\n",
       "    .dataframe tbody tr th:only-of-type {\n",
       "        vertical-align: middle;\n",
       "    }\n",
       "\n",
       "    .dataframe tbody tr th {\n",
       "        vertical-align: top;\n",
       "    }\n",
       "\n",
       "    .dataframe thead th {\n",
       "        text-align: right;\n",
       "    }\n",
       "</style>\n",
       "<table border=\"1\" class=\"dataframe\">\n",
       "  <thead>\n",
       "    <tr style=\"text-align: right;\">\n",
       "      <th></th>\n",
       "      <th>Model</th>\n",
       "      <th>R2</th>\n",
       "      <th>MAE</th>\n",
       "      <th>MSE</th>\n",
       "      <th>RMSE</th>\n",
       "    </tr>\n",
       "  </thead>\n",
       "  <tbody>\n",
       "    <tr>\n",
       "      <td>0</td>\n",
       "      <td>Linear Regression1</td>\n",
       "      <td>41.41</td>\n",
       "      <td>72.17</td>\n",
       "      <td>9589.21</td>\n",
       "      <td>97.92</td>\n",
       "    </tr>\n",
       "    <tr>\n",
       "      <td>1</td>\n",
       "      <td>Linear Regression2</td>\n",
       "      <td>41.24</td>\n",
       "      <td>71.93</td>\n",
       "      <td>9685.54</td>\n",
       "      <td>98.42</td>\n",
       "    </tr>\n",
       "    <tr>\n",
       "      <td>2</td>\n",
       "      <td>Decision Tree</td>\n",
       "      <td>82.60</td>\n",
       "      <td>20.50</td>\n",
       "      <td>2867.83</td>\n",
       "      <td>53.55</td>\n",
       "    </tr>\n",
       "    <tr>\n",
       "      <td>3</td>\n",
       "      <td>Random Forest</td>\n",
       "      <td>89.64</td>\n",
       "      <td>17.12</td>\n",
       "      <td>1707.07</td>\n",
       "      <td>41.32</td>\n",
       "    </tr>\n",
       "    <tr>\n",
       "      <td>4</td>\n",
       "      <td>K Nearest Neighbour</td>\n",
       "      <td>92.47</td>\n",
       "      <td>13.57</td>\n",
       "      <td>1241.10</td>\n",
       "      <td>35.23</td>\n",
       "    </tr>\n",
       "    <tr>\n",
       "      <td>5</td>\n",
       "      <td>Average</td>\n",
       "      <td>69.47</td>\n",
       "      <td>39.06</td>\n",
       "      <td>5018.15</td>\n",
       "      <td>65.29</td>\n",
       "    </tr>\n",
       "  </tbody>\n",
       "</table>\n",
       "</div>"
      ],
      "text/plain": [
       "                 Model     R2    MAE      MSE   RMSE\n",
       "0   Linear Regression1  41.41  72.17  9589.21  97.92\n",
       "1   Linear Regression2  41.24  71.93  9685.54  98.42\n",
       "2        Decision Tree  82.60  20.50  2867.83  53.55\n",
       "3        Random Forest  89.64  17.12  1707.07  41.32\n",
       "4  K Nearest Neighbour  92.47  13.57  1241.10  35.23\n",
       "5              Average  69.47  39.06  5018.15  65.29"
      ]
     },
     "execution_count": 51,
     "metadata": {},
     "output_type": "execute_result"
    }
   ],
   "source": [
    "df2 = pd.DataFrame({\n",
    "    \"Model\": [\"Linear Regression1\", \"Linear Regression2\", \"Decision Tree\", \"Random Forest\",\"K Nearest Neighbour\",\n",
    "              \"Average\"],\n",
    "    \"R2\": [scoretest*100, scoretest1*100, scoretest2*100, scoretest3*100, scoretest4*100,\n",
    "           ((scoretest+scoretest1+scoretest2+scoretest3+scoretest4)/5)*100],\n",
    "    \"MAE\": [mae, mae1, mae2, mae3, mae4, ((mae+mae1+mae2+mae3+mae4)/5)],\n",
    "    \"MSE\": [mse, mse1, mse2, mse3, mse4, ((mse+mse1+mse2+mse3+mse4)/5)],\n",
    "    \"RMSE\": [rmse, rmse1, rmse2, rmse3, rmse4, ((rmse+rmse1+rmse2+rmse3+rmse4)/5)],\n",
    "})\n",
    "round(df2, 2)"
   ]
  },
  {
   "cell_type": "markdown",
   "metadata": {},
   "source": [
    "# Ensemble Algorithm"
   ]
  },
  {
   "cell_type": "markdown",
   "metadata": {},
   "source": [
    "We have found the best algorithm for predicting solar radiation but we can make strengthen the accuracy of our predictions by combining our algorithms in an ensemble algorithm."
   ]
  },
  {
   "cell_type": "markdown",
   "metadata": {},
   "source": [
    "Ensemble algorithms average out bias, reduce variance and are make overfitting unlikely. This produces better predictions!"
   ]
  },
  {
   "cell_type": "code",
   "execution_count": 52,
   "metadata": {},
   "outputs": [],
   "source": [
    "#create a dictionary of our models\n",
    "estimators=[(\"k_model\", k_model), (\"rf_model\", rf_model), (\"tree_model\", tree_model), \n",
    "            (\"linear_model_2\", linear_model_2), (\"linear_model\", linear_model)]\n",
    "#create our voting classifier, inputting our models\n",
    "ensemble = VotingRegressor(estimators)"
   ]
  },
  {
   "cell_type": "code",
   "execution_count": 53,
   "metadata": {
    "collapsed": true
   },
   "outputs": [
    {
     "data": {
      "text/plain": [
       "VotingRegressor(estimators=[('k_model',\n",
       "                             KNeighborsRegressor(algorithm='auto', leaf_size=30,\n",
       "                                                 metric='minkowski',\n",
       "                                                 metric_params=None,\n",
       "                                                 n_jobs=None, n_neighbors=5,\n",
       "                                                 p=2, weights='uniform')),\n",
       "                            ('rf_model',\n",
       "                             RandomForestRegressor(bootstrap=True,\n",
       "                                                   criterion='mse',\n",
       "                                                   max_depth=None,\n",
       "                                                   max_features='auto',\n",
       "                                                   max_leaf_nodes=None,\n",
       "                                                   min_impurity_decrease=0.0,\n",
       "                                                   min_impurity_split=None,\n",
       "                                                   min...\n",
       "                                                   min_impurity_split=None,\n",
       "                                                   min_samples_leaf=1,\n",
       "                                                   min_samples_split=2,\n",
       "                                                   min_weight_fraction_leaf=0.0,\n",
       "                                                   presort=False,\n",
       "                                                   random_state=None,\n",
       "                                                   splitter='best')),\n",
       "                            ('linear_model_2',\n",
       "                             LinearRegression(copy_X=True, fit_intercept=True,\n",
       "                                              n_jobs=None, normalize=False)),\n",
       "                            ('linear_model',\n",
       "                             LinearRegression(copy_X=True, fit_intercept=True,\n",
       "                                              n_jobs=None, normalize=False))],\n",
       "                n_jobs=None, weights=None)"
      ]
     },
     "execution_count": 53,
     "metadata": {},
     "output_type": "execute_result"
    }
   ],
   "source": [
    "ensemble.fit(X_train4, y_train4)"
   ]
  },
  {
   "cell_type": "code",
   "execution_count": 54,
   "metadata": {},
   "outputs": [
    {
     "data": {
      "text/plain": [
       "83.41789775229618"
      ]
     },
     "execution_count": 54,
     "metadata": {},
     "output_type": "execute_result"
    }
   ],
   "source": [
    "ensemble_r = (ensemble.score(X_test4, y_test4)*100)\n",
    "ensemble_r"
   ]
  },
  {
   "cell_type": "markdown",
   "metadata": {},
   "source": [
    "The R-Squared score is good! But can we improve it by using only the top 3 algorithms?"
   ]
  },
  {
   "cell_type": "code",
   "execution_count": 55,
   "metadata": {},
   "outputs": [],
   "source": [
    "estimators2=[(\"k_model\", k_model), (\"rf_model\", rf_model), (\"tree_model\", tree_model)]\n",
    "ensemble2 = VotingRegressor(estimators2)"
   ]
  },
  {
   "cell_type": "code",
   "execution_count": 56,
   "metadata": {},
   "outputs": [
    {
     "data": {
      "text/plain": [
       "91.61200921389998"
      ]
     },
     "execution_count": 56,
     "metadata": {},
     "output_type": "execute_result"
    }
   ],
   "source": [
    "ensemble2.fit(X_train4, y_train4)\n",
    "ensemble2_r = (ensemble2.score(X_test4, y_test4)*100)\n",
    "ensemble2_r"
   ]
  },
  {
   "cell_type": "markdown",
   "metadata": {},
   "source": [
    "The R-Squared  score is even better! But let's compare all scores before making any decisions."
   ]
  },
  {
   "cell_type": "code",
   "execution_count": 57,
   "metadata": {},
   "outputs": [
    {
     "data": {
      "text/html": [
       "<div>\n",
       "<style scoped>\n",
       "    .dataframe tbody tr th:only-of-type {\n",
       "        vertical-align: middle;\n",
       "    }\n",
       "\n",
       "    .dataframe tbody tr th {\n",
       "        vertical-align: top;\n",
       "    }\n",
       "\n",
       "    .dataframe thead th {\n",
       "        text-align: right;\n",
       "    }\n",
       "</style>\n",
       "<table border=\"1\" class=\"dataframe\">\n",
       "  <thead>\n",
       "    <tr style=\"text-align: right;\">\n",
       "      <th></th>\n",
       "      <th>Model</th>\n",
       "      <th>R2</th>\n",
       "      <th>MAE</th>\n",
       "      <th>MSE</th>\n",
       "      <th>RMSE</th>\n",
       "    </tr>\n",
       "  </thead>\n",
       "  <tbody>\n",
       "    <tr>\n",
       "      <td>0</td>\n",
       "      <td>Linear Regression1</td>\n",
       "      <td>41.41</td>\n",
       "      <td>72.17</td>\n",
       "      <td>9589.21</td>\n",
       "      <td>97.92</td>\n",
       "    </tr>\n",
       "    <tr>\n",
       "      <td>1</td>\n",
       "      <td>Linear Regression2</td>\n",
       "      <td>41.24</td>\n",
       "      <td>71.93</td>\n",
       "      <td>9685.54</td>\n",
       "      <td>98.42</td>\n",
       "    </tr>\n",
       "    <tr>\n",
       "      <td>2</td>\n",
       "      <td>Decision Tree</td>\n",
       "      <td>82.60</td>\n",
       "      <td>20.50</td>\n",
       "      <td>2867.83</td>\n",
       "      <td>53.55</td>\n",
       "    </tr>\n",
       "    <tr>\n",
       "      <td>3</td>\n",
       "      <td>Random Forest</td>\n",
       "      <td>89.64</td>\n",
       "      <td>17.12</td>\n",
       "      <td>1707.07</td>\n",
       "      <td>41.32</td>\n",
       "    </tr>\n",
       "    <tr>\n",
       "      <td>4</td>\n",
       "      <td>K Nearest Neighbour</td>\n",
       "      <td>92.47</td>\n",
       "      <td>13.57</td>\n",
       "      <td>1241.10</td>\n",
       "      <td>35.23</td>\n",
       "    </tr>\n",
       "    <tr>\n",
       "      <td>5</td>\n",
       "      <td>Average</td>\n",
       "      <td>69.47</td>\n",
       "      <td>39.06</td>\n",
       "      <td>5018.15</td>\n",
       "      <td>65.29</td>\n",
       "    </tr>\n",
       "  </tbody>\n",
       "</table>\n",
       "</div>"
      ],
      "text/plain": [
       "                 Model     R2    MAE      MSE   RMSE\n",
       "0   Linear Regression1  41.41  72.17  9589.21  97.92\n",
       "1   Linear Regression2  41.24  71.93  9685.54  98.42\n",
       "2        Decision Tree  82.60  20.50  2867.83  53.55\n",
       "3        Random Forest  89.64  17.12  1707.07  41.32\n",
       "4  K Nearest Neighbour  92.47  13.57  1241.10  35.23\n",
       "5              Average  69.47  39.06  5018.15  65.29"
      ]
     },
     "execution_count": 57,
     "metadata": {},
     "output_type": "execute_result"
    }
   ],
   "source": [
    "df2 = pd.DataFrame({\n",
    "    \"Model\": [\"Linear Regression1\", \"Linear Regression2\", \"Decision Tree\", \"Random Forest\",\"K Nearest Neighbour\",\n",
    "              \"Average\"],\n",
    "    \"R2\": [scoretest*100, scoretest1*100, scoretest2*100, scoretest3*100, scoretest4*100,\n",
    "           ((scoretest+scoretest1+scoretest2+scoretest3+scoretest4)/5)*100],\n",
    "    \"MAE\": [mae, mae1, mae2, mae3, mae4, ((mae+mae1+mae2+mae3+mae4)/5)],\n",
    "    \"MSE\": [mse, mse1, mse2, mse3, mse4, ((mse+mse1+mse2+mse3+mse4)/5)],\n",
    "    \"RMSE\": [rmse, rmse1, rmse2, rmse3, rmse4, ((rmse+rmse1+rmse2+rmse3+rmse4)/5)],\n",
    "})\n",
    "round(df2, 2)"
   ]
  },
  {
   "cell_type": "code",
   "execution_count": 58,
   "metadata": {},
   "outputs": [
    {
     "data": {
      "text/html": [
       "<div>\n",
       "<style scoped>\n",
       "    .dataframe tbody tr th:only-of-type {\n",
       "        vertical-align: middle;\n",
       "    }\n",
       "\n",
       "    .dataframe tbody tr th {\n",
       "        vertical-align: top;\n",
       "    }\n",
       "\n",
       "    .dataframe thead th {\n",
       "        text-align: right;\n",
       "    }\n",
       "</style>\n",
       "<table border=\"1\" class=\"dataframe\">\n",
       "  <thead>\n",
       "    <tr style=\"text-align: right;\">\n",
       "      <th></th>\n",
       "      <th>Model</th>\n",
       "      <th>R2</th>\n",
       "    </tr>\n",
       "  </thead>\n",
       "  <tbody>\n",
       "    <tr>\n",
       "      <td>0</td>\n",
       "      <td>Linear Regression1</td>\n",
       "      <td>41.41</td>\n",
       "    </tr>\n",
       "    <tr>\n",
       "      <td>1</td>\n",
       "      <td>Linear Regression2</td>\n",
       "      <td>41.24</td>\n",
       "    </tr>\n",
       "    <tr>\n",
       "      <td>2</td>\n",
       "      <td>Decision Tree</td>\n",
       "      <td>82.60</td>\n",
       "    </tr>\n",
       "    <tr>\n",
       "      <td>3</td>\n",
       "      <td>Random Forest</td>\n",
       "      <td>89.64</td>\n",
       "    </tr>\n",
       "    <tr>\n",
       "      <td>4</td>\n",
       "      <td>K Nearest Neighbour</td>\n",
       "      <td>92.47</td>\n",
       "    </tr>\n",
       "    <tr>\n",
       "      <td>5</td>\n",
       "      <td>Average</td>\n",
       "      <td>69.47</td>\n",
       "    </tr>\n",
       "    <tr>\n",
       "      <td>6</td>\n",
       "      <td>Ensemble</td>\n",
       "      <td>83.42</td>\n",
       "    </tr>\n",
       "    <tr>\n",
       "      <td>7</td>\n",
       "      <td>Ensemble2</td>\n",
       "      <td>91.61</td>\n",
       "    </tr>\n",
       "  </tbody>\n",
       "</table>\n",
       "</div>"
      ],
      "text/plain": [
       "                 Model     R2\n",
       "0   Linear Regression1  41.41\n",
       "1   Linear Regression2  41.24\n",
       "2        Decision Tree  82.60\n",
       "3        Random Forest  89.64\n",
       "4  K Nearest Neighbour  92.47\n",
       "5              Average  69.47\n",
       "6             Ensemble  83.42\n",
       "7            Ensemble2  91.61"
      ]
     },
     "execution_count": 58,
     "metadata": {},
     "output_type": "execute_result"
    }
   ],
   "source": [
    "df3 = pd.DataFrame({\n",
    "    \"Model\": [\"Linear Regression1\", \"Linear Regression2\", \"Decision Tree\", \"Random Forest\",\"K Nearest Neighbour\",\n",
    "              \"Average\", \"Ensemble\", \"Ensemble2\"],\n",
    "    \"R2\": [scoretest*100, scoretest1*100, scoretest2*100, scoretest3*100, scoretest4*100,\n",
    "           ((scoretest+scoretest1+scoretest2+scoretest3+scoretest4)/5)*100, ensemble_r, ensemble2_r]\n",
    "})\n",
    "round(df3, 2)"
   ]
  },
  {
   "cell_type": "markdown",
   "metadata": {},
   "source": [
    "# Testing the K Nearest neighbour Algorithm"
   ]
  },
  {
   "cell_type": "markdown",
   "metadata": {},
   "source": [
    "Let's test the algorithm with the current weather conditions in London, England"
   ]
  },
  {
   "cell_type": "code",
   "execution_count": 86,
   "metadata": {},
   "outputs": [],
   "source": [
    "import time\n",
    "import datetime\n",
    "now = datetime.datetime.now()"
   ]
  },
  {
   "cell_type": "code",
   "execution_count": 95,
   "metadata": {},
   "outputs": [],
   "source": [
    "columns = ['UNIXTime', 'Temperature', 'Pressure', 'Humidity',\n",
    "       'WindDirection(Degrees)', 'Speed', 'Hour', 'Month', 'Year',\n",
    "       'Total_Time']\n",
    "london_dict = {'UNIXTime':time.time(), 'Temperature':50, 'Pressure':30.23, 'Humidity':74,\n",
    "       'WindDirection':211.62, 'Speed':12, 'Hour':now.hour, 'Month':now.month, 'Year':now.year, 'Total_Time':8}\n",
    "test_london = pd.DataFrame([london_dict], columns=london_dict.keys())"
   ]
  },
  {
   "cell_type": "code",
   "execution_count": 96,
   "metadata": {},
   "outputs": [
    {
     "name": "stdout",
     "output_type": "stream",
     "text": [
      "The predicted solar radiation level in London is [1.206].\n"
     ]
    }
   ],
   "source": [
    "pred_Test_london = k_model.predict(test_london)\n",
    "print(\"The predicted solar radiation level in London is \" + str(pred_Test_london) + \".\")"
   ]
  },
  {
   "cell_type": "markdown",
   "metadata": {},
   "source": [
    "London's solar radiation levels usually fall between 0.52 and 4.74 so this prediction is plausible!"
   ]
  },
  {
   "cell_type": "markdown",
   "metadata": {},
   "source": [
    "# Testing the Ensemble 2 Algorithm"
   ]
  },
  {
   "cell_type": "code",
   "execution_count": 106,
   "metadata": {},
   "outputs": [],
   "source": [
    "columns = ['UNIXTime', 'Temperature', 'Pressure', 'Humidity',\n",
    "       'WindDirection(Degrees)', 'Speed', 'Hour', 'Month', 'Year',\n",
    "       'Total_Time']\n",
    "london_dict2 = {'UNIXTime':time.time(), 'Temperature':50, 'Pressure':30.23, 'Humidity':74,\n",
    "       'WindDirection':211.62, 'Speed':12, 'Hour':now.hour, 'Month':now.month, 'Year':now.year, 'Total_Time':8}\n",
    "test_london2 = pd.DataFrame([london_dict2], columns=london_dict2.keys())"
   ]
  },
  {
   "cell_type": "code",
   "execution_count": 111,
   "metadata": {},
   "outputs": [
    {
     "name": "stdout",
     "output_type": "stream",
     "text": [
      "The predicted solar radiation level in London is [68.17].\n"
     ]
    }
   ],
   "source": [
    "pred_Test_london2 = ensemble2.predict(test_london2)\n",
    "print(\"The predicted solar radiation level in London is \" + str(pred_Test_london2) + \".\")"
   ]
  },
  {
   "cell_type": "markdown",
   "metadata": {},
   "source": [
    "The prediction here is not so good! "
   ]
  },
  {
   "cell_type": "markdown",
   "metadata": {},
   "source": [
    "# Conclusion"
   ]
  },
  {
   "cell_type": "markdown",
   "metadata": {},
   "source": [
    "We can see that K Nearest Neighbour still has the best R-Squared score making it the stronger algorithm. The prediction that this model made is possible."
   ]
  },
  {
   "cell_type": "markdown",
   "metadata": {},
   "source": [
    "The ensemble algorithms average out bias, reduce variance and make overfitting unlikely but the second one (combination of 3 strongest algorithms) did not make a good prediction."
   ]
  },
  {
   "cell_type": "markdown",
   "metadata": {},
   "source": [
    "It would b e best to use the K Nearest neighbout algorithm for future predictions."
   ]
  }
 ],
 "metadata": {
  "kernelspec": {
   "display_name": "Python 3",
   "language": "python",
   "name": "python3"
  },
  "language_info": {
   "codemirror_mode": {
    "name": "ipython",
    "version": 3
   },
   "file_extension": ".py",
   "mimetype": "text/x-python",
   "name": "python",
   "nbconvert_exporter": "python",
   "pygments_lexer": "ipython3",
   "version": "3.7.4"
  }
 },
 "nbformat": 4,
 "nbformat_minor": 2
}
